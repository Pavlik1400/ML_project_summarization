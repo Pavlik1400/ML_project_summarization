{
 "cells": [
  {
   "cell_type": "markdown",
   "source": [
    "Purpose of this notebook - clean datasets, so that GPT-2 with input size of 1024 could learn from them."
   ],
   "metadata": {
    "collapsed": false,
    "pycharm": {
     "name": "#%% md\n"
    }
   }
  },
  {
   "cell_type": "code",
   "execution_count": 1,
   "outputs": [],
   "source": [
    "import os\n",
    "import sys\n",
    "\n",
    "import matplotlib.pyplot as plt\n",
    "import numpy as np\n",
    "# import nltk\n",
    "from tqdm import tqdm\n",
    "\n",
    "sys.path.append(os.path.join(os.getcwd(), \"..\", \"..\"))\n",
    "from src.ds_loaders.cnn_daily import CNNDailyLoader\n",
    "from src.ds_loaders.ds_loader import DSLoader"
   ],
   "metadata": {
    "collapsed": false,
    "pycharm": {
     "name": "#%%\n"
    }
   }
  },
  {
   "cell_type": "code",
   "execution_count": 2,
   "outputs": [
    {
     "name": "stderr",
     "output_type": "stream",
     "text": [
      "Reusing dataset cnn_dailymail (/home/pasha/.cache/huggingface/datasets/ccdv___cnn_dailymail/3.0.0/3.0.0/0107f7388b5c6fae455a5661bcd134fc22da53ea75852027040d8d1e997f101f)\n"
     ]
    },
    {
     "data": {
      "text/plain": "  0%|          | 0/3 [00:00<?, ?it/s]",
      "application/vnd.jupyter.widget-view+json": {
       "version_major": 2,
       "version_minor": 0,
       "model_id": "c2311f1951084f3b82f5726a262fa09f"
      }
     },
     "metadata": {},
     "output_type": "display_data"
    }
   ],
   "source": [
    "cnn_dm_loader = CNNDailyLoader()\n",
    "cnn_dm_loader.load()"
   ],
   "metadata": {
    "collapsed": false,
    "pycharm": {
     "name": "#%%\n"
    }
   }
  },
  {
   "cell_type": "code",
   "execution_count": 3,
   "outputs": [],
   "source": [
    "def naive_word_counter(s):\n",
    "    return s.count(\" \")\n",
    "\n",
    "\n",
    "def calc_tokens_n(loader: DSLoader, w_counter=naive_word_counter):\n",
    "    def calc(X, y, before_str=\"\"):\n",
    "        # print(before_str)\n",
    "        res = []\n",
    "        tq = tqdm(total=len(y))\n",
    "        for idx, (doc, summ) in enumerate(zip(X, y)):\n",
    "            # n_words = len(nltk.word_tokenize(doc)) + len(nltk.word_tokenize(summ))\n",
    "            # n_words = doc.count(\" \") + summ.count(\" \")\n",
    "            n_words = w_counter(doc) + w_counter(summ)\n",
    "            res.append(n_words)\n",
    "            tq.update()\n",
    "        return res\n",
    "\n",
    "    all_res = {\n",
    "        'train': calc((loader.X_train), (loader.y_train), \"Train:\"),\n",
    "        'val': calc((loader.X_val), (loader.y_val), \"Validation:\"),\n",
    "        'test': calc((loader.X_test), (loader.y_test), \"Test\"),\n",
    "    }\n",
    "\n",
    "    return all_res\n"
   ],
   "metadata": {
    "collapsed": false,
    "pycharm": {
     "name": "#%%\n"
    }
   }
  },
  {
   "cell_type": "code",
   "execution_count": 4,
   "outputs": [
    {
     "name": "stderr",
     "output_type": "stream",
     "text": [
      "100%|██████████| 287113/287113 [00:03<00:00, 91022.06it/s]\n",
      "100%|██████████| 13368/13368 [00:00<00:00, 90006.78it/s]\n",
      "100%|██████████| 11490/11490 [00:00<00:00, 94405.24it/s]\n"
     ]
    }
   ],
   "source": [
    "counts = calc_tokens_n(cnn_dm_loader)"
   ],
   "metadata": {
    "collapsed": false,
    "pycharm": {
     "name": "#%%\n"
    }
   }
  },
  {
   "cell_type": "code",
   "execution_count": 5,
   "outputs": [],
   "source": [
    "def vizualize_n_words_distribution(counts):\n",
    "    nbins = 10\n",
    "    fig, (ax0, ax1, ax2) = plt.subplots(1, 3)\n",
    "    fig.set_figheight(6)\n",
    "    fig.set_figwidth(20)\n",
    "    fig.suptitle(\"Distribution of number of words in document + summary\")\n",
    "    # plt.figure(figsize=(10, 10))\n",
    "    ax0.hist(counts['train'], bins=nbins)\n",
    "    ax0.set_title(f\"Train\")\n",
    "\n",
    "    # plt.figure(figsize=(10, 10))\n",
    "    ax1.hist(counts['val'], bins=nbins)\n",
    "    ax1.set_title(f\"Validation\")\n",
    "\n",
    "    # plt.figure(figsize=(10, 10))\n",
    "    ax2.hist(counts['test'], bins=nbins)\n",
    "    ax2.set_title(f\"Test\")\n",
    "    pass\n",
    "\n",
    "# plt.figure(figsize=(10, 10))\n",
    "# plt.hist(counts['train'], bins=8)\n",
    "# plt.title(f\"Distribution of train number of words in document + summary\")"
   ],
   "metadata": {
    "collapsed": false,
    "pycharm": {
     "name": "#%%\n"
    }
   }
  },
  {
   "cell_type": "code",
   "execution_count": 6,
   "outputs": [
    {
     "data": {
      "text/plain": "<Figure size 1440x432 with 3 Axes>",
      "image/png": "[encoded data removed]"
     },
     "metadata": {
      "needs_background": "light"
     },
     "output_type": "display_data"
    }
   ],
   "source": [
    "vizualize_n_words_distribution(counts)"
   ],
   "metadata": {
    "collapsed": false,
    "pycharm": {
     "name": "#%%\n"
    }
   }
  },
  {
   "cell_type": "code",
   "execution_count": 7,
   "outputs": [],
   "source": [
    "def smaller_1024_perc(counts):\n",
    "    print(\n",
    "        f\"Percentage of n_words(doc+sum)<1024 in train: {round(len((np.where((np.asarray(counts['train']) <= 1024))[0])) / len(counts['train']) * 100, 3)}%\")\n",
    "    print(\n",
    "        f\"Percentage of n_words(doc+sum)<1024 in val: {round(len((np.where((np.asarray(counts['val']) <= 1024))[0])) / len(counts['val']) * 100, 3)}%\")\n",
    "    print(\n",
    "        f\"Percentage of n_words(doc+sum)<1024 in test: {round(len((np.where((np.asarray(counts['test']) <= 1024))[0])) / len(counts['test']) * 100, 3)}%\")"
   ],
   "metadata": {
    "collapsed": false,
    "pycharm": {
     "name": "#%%\n"
    }
   }
  },
  {
   "cell_type": "code",
   "execution_count": 8,
   "outputs": [
    {
     "name": "stdout",
     "output_type": "stream",
     "text": [
      "Percentage of n_words(doc+sum)<1024 in train: 81.411%\n",
      "Percentage of n_words(doc+sum)<1024 in val: 81.373%\n",
      "Percentage of n_words(doc+sum)<1024 in test: 81.097%\n"
     ]
    }
   ],
   "source": [
    "smaller_1024_perc(counts)"
   ],
   "metadata": {
    "collapsed": false,
    "pycharm": {
     "name": "#%%\n"
    }
   }
  },
  {
   "cell_type": "code",
   "execution_count": 9,
   "outputs": [],
   "source": [
    "# print(cnn_dm_loader.X_train[0])"
   ],
   "metadata": {
    "collapsed": false,
    "pycharm": {
     "name": "#%%\n"
    }
   }
  },
  {
   "cell_type": "code",
   "execution_count": 9,
   "outputs": [],
   "source": [],
   "metadata": {
    "collapsed": false,
    "pycharm": {
     "name": "#%%\n"
    }
   }
  },
  {
   "cell_type": "code",
   "execution_count": 10,
   "outputs": [],
   "source": [
    "# Firstly save all, sine later dependency datasets breaks everything\n",
    "import json\n",
    "\n",
    "\n",
    "def ds_filter_to_json(loader, path=\"ds.json\", predicate=lambda k, idx: True, ):\n",
    "    def _sub_part(X, y, pred):\n",
    "        res = []\n",
    "        tq = tqdm(total=len(y))\n",
    "        for idx, (doc, summ) in enumerate(zip(X, y)):\n",
    "            # if pred(X[idx], y[idx]):\n",
    "            if pred(idx):\n",
    "                res.append({\n",
    "                    'document': doc,\n",
    "                    'summary': summ\n",
    "                })\n",
    "                tq.update()\n",
    "        return res\n",
    "\n",
    "    res = {\n",
    "        'train': _sub_part(loader.X_train, loader.y_train, lambda idx: predicate('train', idx)),\n",
    "        'val': _sub_part(loader.X_val, loader.y_val, lambda idx: predicate('val', idx)),\n",
    "        'test': _sub_part(loader.X_test, loader.y_test, lambda idx: predicate('test', idx)),\n",
    "    }\n",
    "    with open(path, 'w') as f:\n",
    "        json.dump(res, f, indent=4)\n"
   ],
   "metadata": {
    "collapsed": false,
    "pycharm": {
     "name": "#%%\n"
    }
   }
  },
  {
   "cell_type": "code",
   "execution_count": 18,
   "outputs": [
    {
     "name": "stderr",
     "output_type": "stream",
     "text": [
      "100%|██████████| 287113/287113 [00:00<00:00, 1230825.02it/s]\n",
      "100%|██████████| 13368/13368 [00:00<00:00, 1166655.34it/s]\n",
      "100%|██████████| 11490/11490 [00:00<00:00, 1043083.70it/s]\n"
     ]
    }
   ],
   "source": [
    "ds_filter_to_json(cnn_dm_loader, \"../../data/cnn_daily_full.json\")"
   ],
   "metadata": {
    "collapsed": false,
    "pycharm": {
     "name": "#%%\n"
    }
   }
  },
  {
   "cell_type": "code",
   "execution_count": 11,
   "outputs": [],
   "source": [
    "from transformers import GPT2Tokenizer\n",
    "\n",
    "tokenizer = GPT2Tokenizer.from_pretrained('gpt2')\n",
    "special_tokens = {'pad_token': '<|pad|>', 'sep_token': '<|sep|>'}\n",
    "num_add_toks = tokenizer.add_special_tokens(special_tokens)"
   ],
   "metadata": {
    "collapsed": false,
    "pycharm": {
     "name": "#%%\n"
    }
   }
  },
  {
   "cell_type": "code",
   "execution_count": 13,
   "outputs": [],
   "source": [
    "# print(len(tokenizer.encode(cnn_dm_loader.X_train[0])))\n",
    "# print(cnn_dm_loader.X_train[0].count(\" \"))\n",
    "\n",
    "def gpt2_tokenizer_less_1024(doc, summ):\n",
    "    return (len(tokenizer.encode(doc)) + len(tokenizer.encode(summ))) < 1024\n",
    "\n",
    "\n",
    "def gpt2_count_pred_1024(s):\n",
    "    # return len(tokenizer.encode(s)) < 1024\n",
    "    return len(tokenizer.encode(s))\n"
   ],
   "metadata": {
    "collapsed": false,
    "pycharm": {
     "name": "#%%\n"
    }
   }
  },
  {
   "cell_type": "code",
   "execution_count": 15,
   "outputs": [
    {
     "name": "stderr",
     "output_type": "stream",
     "text": [
      "100%|██████████| 287113/287113 [18:01<00:00, 265.50it/s]\n",
      "100%|██████████| 13368/13368 [00:49<00:00, 269.69it/s]\n",
      "100%|██████████| 11490/11490 [00:43<00:00, 267.16it/s]\n"
     ]
    }
   ],
   "source": [
    "gpt2_counts = calc_tokens_n(cnn_dm_loader, gpt2_count_pred_1024)\n"
   ],
   "metadata": {
    "collapsed": false,
    "pycharm": {
     "name": "#%%\n"
    }
   }
  },
  {
   "cell_type": "code",
   "execution_count": null,
   "outputs": [],
   "source": [
    "vizualize_n_words_distribution(gpt2_counts)"
   ],
   "metadata": {
    "collapsed": false,
    "pycharm": {
     "name": "#%%\n"
    }
   }
  },
  {
   "cell_type": "code",
   "execution_count": 27,
   "outputs": [
    {
     "name": "stdout",
     "output_type": "stream",
     "text": [
      "2\n",
      "Percentage of n_words(doc+sum)<1024 in train: 70.031%\n",
      "Percentage of n_words(doc+sum)<1024 in val: 71.29%\n",
      "Percentage of n_words(doc+sum)<1024 in test: 70.853%\n"
     ]
    }
   ],
   "source": [
    "smaller_1024_perc(gpt2_counts)\n",
    "# print(f\"Percentage of n_words(doc+sum)<1024 in train: {round((np.sum((np.asarray(gpt2_counts['train']) == 2))) / len(counts['train']) * 100, 3)}%\")\n",
    "# print(f\"Percentage of n_words(doc+sum)<1024 in val: {round((np.sum((np.asarray(gpt2_counts['val']) == 2))) / len(counts['val']) * 100, 3)}%\")\n",
    "# print(f\"Percentage of n_words(doc+sum)<1024 in test: {round((np.sum((np.asarray(gpt2_counts['test']) == 2))) / len(counts['test']) * 100, 3)}%\")\n"
   ],
   "metadata": {
    "collapsed": false,
    "pycharm": {
     "name": "#%%\n"
    }
   }
  },
  {
   "cell_type": "code",
   "execution_count": 31,
   "outputs": [
    {
     "name": "stderr",
     "output_type": "stream",
     "text": [
      "\n",
      "  0%|          | 0/287113 [00:00<?, ?it/s]\u001B[A\n",
      " 31%|███       | 88950/287113 [00:00<00:00, 889494.49it/s]\u001B[A\n",
      " 70%|███████   | 201067/287113 [00:00<00:00, 958219.99it/s]\u001B[A\n",
      "\n",
      " 71%|███████▏  | 9530/13368 [00:00<00:00, 949920.79it/s]\n",
      "\n",
      " 71%|███████   | 8141/11490 [00:00<00:00, 694825.89it/s]\n"
     ]
    }
   ],
   "source": [
    "# ds_filter_to_json(cnn_dm_loader, \"../../data/cnn_daily_tok.json\", predicate=lambda k, idx: gpt2_counts[k][idx] == 2)\n",
    "ds_filter_to_json(cnn_dm_loader, \"../../data/cnn_daily_tok.json\", predicate=lambda k, idx: gpt2_counts[k][idx] < 1024)"
   ],
   "metadata": {
    "collapsed": false,
    "pycharm": {
     "name": "#%%\n"
    }
   }
  },
  {
   "cell_type": "markdown",
   "source": [
    "Tokenize"
   ],
   "metadata": {
    "collapsed": false,
    "pycharm": {
     "name": "#%% md\n"
    }
   }
  },
  {
   "cell_type": "code",
   "execution_count": 19,
   "outputs": [],
   "source": [
    "def gpt2_tokenize_save_1024(loader, path: str):\n",
    "    CLIP_IDX = 1000\n",
    "\n",
    "    def _sub_tokenize(X, y):\n",
    "        res = []\n",
    "        # tq = tqdm(total=len(y))\n",
    "        k = 0\n",
    "        tq = tqdm(total=CLIP_IDX)\n",
    "        for idx, (doc, summ) in enumerate(zip(X, y)):\n",
    "\n",
    "            if k >= CLIP_IDX:\n",
    "                return res\n",
    "\n",
    "            doc_tok = tokenizer.encode(doc)\n",
    "            summ_tok = tokenizer.encode(summ)\n",
    "            if len(doc_tok) + len(summ_tok) + 1 > 1024:\n",
    "                continue\n",
    "            res.append(\n",
    "                {\n",
    "                    'document': doc_tok,\n",
    "                    'summary': summ_tok,\n",
    "                }\n",
    "            )\n",
    "            k += 1\n",
    "            tq.update()\n",
    "        return res\n",
    "\n",
    "    res = {\n",
    "        'train': _sub_tokenize(loader.X_train, loader.y_train),\n",
    "        'val': _sub_tokenize(loader.X_val, loader.y_val),\n",
    "        'test': _sub_tokenize(loader.X_test, loader.y_test),\n",
    "    }\n",
    "    with open(path, 'w') as f:\n",
    "        json.dump(res, f, indent=4)"
   ],
   "metadata": {
    "collapsed": false,
    "pycharm": {
     "name": "#%%\n"
    }
   }
  },
  {
   "cell_type": "code",
   "execution_count": 20,
   "outputs": [
    {
     "name": "stderr",
     "output_type": "stream",
     "text": [
      "\n",
      "  0%|          | 0/1000 [00:00<?, ?it/s]\u001B[A\n",
      "  1%|▏         | 14/1000 [00:00<00:07, 138.61it/s]\u001B[A\n",
      "  3%|▎         | 30/1000 [00:00<00:06, 147.64it/s]\u001B[A\n",
      "  5%|▍         | 46/1000 [00:00<00:06, 152.72it/s]\u001B[A\n",
      "  7%|▋         | 66/1000 [00:00<00:05, 170.72it/s]\u001B[A\n",
      "  8%|▊         | 84/1000 [00:00<00:05, 170.79it/s]\u001B[A\n",
      " 10%|█         | 102/1000 [00:00<00:05, 170.83it/s]\u001B[A\n",
      " 12%|█▏        | 120/1000 [00:00<00:05, 165.36it/s]\u001B[A\n",
      " 14%|█▍        | 138/1000 [00:00<00:05, 163.12it/s]\u001B[A\n",
      " 16%|█▌        | 157/1000 [00:00<00:04, 170.18it/s]\u001B[A\n",
      " 18%|█▊        | 177/1000 [00:01<00:04, 174.38it/s]\u001B[A\n",
      " 20%|█▉        | 198/1000 [00:01<00:04, 173.28it/s]\u001B[A\n",
      " 22%|██▏       | 222/1000 [00:01<00:04, 187.76it/s]\u001B[A\n",
      " 24%|██▍       | 243/1000 [00:01<00:03, 192.98it/s]\u001B[A\n",
      " 26%|██▋       | 265/1000 [00:01<00:03, 197.11it/s]\u001B[A\n",
      " 29%|██▊       | 286/1000 [00:01<00:03, 199.87it/s]\u001B[A\n",
      " 31%|███       | 307/1000 [00:01<00:03, 193.52it/s]\u001B[A\n",
      " 33%|███▎      | 327/1000 [00:01<00:03, 170.55it/s]\u001B[A\n",
      " 34%|███▍      | 345/1000 [00:01<00:03, 169.69it/s]\u001B[A\n",
      " 37%|███▋      | 368/1000 [00:02<00:03, 182.77it/s]\u001B[A\n",
      " 39%|███▊      | 387/1000 [00:02<00:03, 166.72it/s]\u001B[A\n",
      " 40%|████      | 405/1000 [00:02<00:03, 160.66it/s]\u001B[A\n",
      " 42%|████▏     | 422/1000 [00:02<00:03, 148.52it/s]\u001B[A\n",
      " 44%|████▍     | 438/1000 [00:02<00:03, 142.28it/s]\u001B[A\n",
      " 45%|████▌     | 453/1000 [00:02<00:04, 128.68it/s]\u001B[A\n",
      " 48%|████▊     | 475/1000 [00:02<00:03, 146.12it/s]\u001B[A\n",
      " 49%|████▉     | 491/1000 [00:02<00:03, 144.92it/s]\u001B[A\n",
      " 51%|█████     | 506/1000 [00:03<00:03, 144.28it/s]\u001B[A\n",
      " 53%|█████▎    | 528/1000 [00:03<00:02, 161.85it/s]\u001B[A\n",
      " 55%|█████▍    | 548/1000 [00:03<00:02, 169.68it/s]\u001B[A\n",
      " 57%|█████▊    | 575/1000 [00:03<00:02, 196.66it/s]\u001B[A\n",
      " 60%|██████    | 601/1000 [00:03<00:01, 214.55it/s]\u001B[A\n",
      " 62%|██████▏   | 623/1000 [00:03<00:01, 189.72it/s]\u001B[A\n",
      " 64%|██████▍   | 643/1000 [00:03<00:01, 183.22it/s]\u001B[A\n",
      " 66%|██████▌   | 662/1000 [00:03<00:01, 173.65it/s]\u001B[A\n",
      " 68%|██████▊   | 682/1000 [00:03<00:01, 176.12it/s]\u001B[A\n",
      " 71%|███████   | 706/1000 [00:04<00:01, 192.48it/s]\u001B[A\n",
      " 73%|███████▎  | 726/1000 [00:04<00:01, 191.19it/s]\u001B[A\n",
      " 75%|███████▍  | 746/1000 [00:04<00:01, 184.89it/s]\u001B[A\n",
      " 77%|███████▋  | 771/1000 [00:04<00:01, 202.41it/s]\u001B[A\n",
      " 79%|███████▉  | 792/1000 [00:04<00:01, 184.03it/s]\u001B[A\n",
      " 81%|████████  | 811/1000 [00:04<00:01, 176.58it/s]\u001B[A\n",
      " 83%|████████▎ | 830/1000 [00:04<00:00, 172.56it/s]\u001B[A\n",
      " 85%|████████▍ | 849/1000 [00:04<00:00, 174.21it/s]\u001B[A\n",
      " 87%|████████▋ | 867/1000 [00:05<00:00, 149.89it/s]\u001B[A\n",
      " 89%|████████▉ | 891/1000 [00:05<00:00, 170.41it/s]\u001B[A\n",
      " 91%|█████████ | 911/1000 [00:05<00:00, 176.68it/s]\u001B[A\n",
      " 93%|█████████▎| 930/1000 [00:05<00:00, 176.86it/s]\u001B[A\n",
      " 95%|█████████▍| 949/1000 [00:05<00:00, 172.97it/s]\u001B[A\n",
      " 97%|█████████▋| 967/1000 [00:05<00:00, 146.82it/s]\u001B[A\n",
      "100%|██████████| 1000/1000 [00:05<00:00, 169.44it/s][A\n",
      "\n",
      "  0%|          | 0/1000 [00:00<?, ?it/s]\u001B[A\n",
      "  3%|▎         | 27/1000 [00:00<00:03, 257.64it/s]\u001B[A\n",
      "  5%|▌         | 53/1000 [00:00<00:03, 247.94it/s]\u001B[A\n",
      "  8%|▊         | 79/1000 [00:00<00:03, 252.08it/s]\u001B[A\n",
      " 10%|█         | 105/1000 [00:00<00:03, 250.24it/s]\u001B[A\n",
      " 13%|█▎        | 131/1000 [00:00<00:03, 240.97it/s]\u001B[A\n",
      " 16%|█▌        | 156/1000 [00:00<00:03, 242.27it/s]\u001B[A\n",
      " 18%|█▊        | 181/1000 [00:00<00:03, 234.79it/s]\u001B[A\n",
      " 20%|██        | 205/1000 [00:00<00:03, 216.84it/s]\u001B[A\n",
      " 23%|██▎       | 227/1000 [00:01<00:03, 201.10it/s]\u001B[A\n",
      " 25%|██▍       | 248/1000 [00:01<00:03, 193.44it/s]\u001B[A\n",
      " 27%|██▋       | 268/1000 [00:01<00:03, 187.56it/s]\u001B[A\n",
      " 29%|██▊       | 287/1000 [00:01<00:04, 169.51it/s]\u001B[A\n",
      " 31%|███       | 311/1000 [00:01<00:03, 187.27it/s]\u001B[A\n",
      " 34%|███▍      | 340/1000 [00:01<00:03, 212.05it/s]\u001B[A\n",
      " 36%|███▌      | 362/1000 [00:01<00:03, 189.61it/s]\u001B[A\n",
      " 38%|███▊      | 382/1000 [00:01<00:03, 178.05it/s]\u001B[A\n",
      " 41%|████      | 406/1000 [00:01<00:03, 191.76it/s]\u001B[A\n",
      " 43%|████▎     | 429/1000 [00:02<00:02, 201.34it/s]\u001B[A\n",
      " 45%|████▌     | 450/1000 [00:02<00:02, 194.07it/s]\u001B[A\n",
      " 47%|████▋     | 470/1000 [00:02<00:02, 179.30it/s]\u001B[A\n",
      " 49%|████▉     | 489/1000 [00:02<00:02, 179.95it/s]\u001B[A\n",
      " 51%|█████     | 508/1000 [00:02<00:02, 177.77it/s]\u001B[A\n",
      " 53%|█████▎    | 529/1000 [00:02<00:02, 185.96it/s]\u001B[A\n",
      " 55%|█████▍    | 548/1000 [00:02<00:02, 184.56it/s]\u001B[A\n",
      " 57%|█████▋    | 567/1000 [00:02<00:02, 185.26it/s]\u001B[A\n",
      " 59%|█████▊    | 586/1000 [00:02<00:02, 177.54it/s]\u001B[A\n",
      " 61%|██████▏   | 613/1000 [00:03<00:01, 203.28it/s]\u001B[A\n",
      " 63%|██████▎   | 634/1000 [00:03<00:01, 199.36it/s]\u001B[A\n",
      " 66%|██████▌   | 655/1000 [00:03<00:01, 198.97it/s]\u001B[A\n",
      " 68%|██████▊   | 677/1000 [00:03<00:01, 202.31it/s]\u001B[A\n",
      " 70%|███████   | 701/1000 [00:03<00:01, 212.06it/s]\u001B[A\n",
      " 72%|███████▏  | 723/1000 [00:03<00:01, 207.73it/s]\u001B[A\n",
      " 74%|███████▍  | 744/1000 [00:03<00:01, 196.31it/s]\u001B[A\n",
      " 76%|███████▋  | 764/1000 [00:03<00:01, 153.01it/s]\u001B[A\n",
      " 78%|███████▊  | 782/1000 [00:04<00:01, 157.09it/s]\u001B[A\n",
      " 80%|████████  | 801/1000 [00:04<00:01, 164.83it/s]\u001B[A\n",
      " 82%|████████▏ | 822/1000 [00:04<00:01, 176.21it/s]\u001B[A\n",
      " 84%|████████▍ | 841/1000 [00:04<00:00, 164.90it/s]\u001B[A\n",
      " 86%|████████▌ | 859/1000 [00:04<00:00, 157.82it/s]\u001B[A\n",
      " 88%|████████▊ | 876/1000 [00:04<00:00, 160.40it/s]\u001B[A\n",
      " 90%|████████▉ | 897/1000 [00:04<00:00, 173.32it/s]\u001B[A\n",
      " 92%|█████████▏| 920/1000 [00:04<00:00, 184.85it/s]\u001B[A\n",
      " 94%|█████████▍| 939/1000 [00:04<00:00, 176.04it/s]\u001B[A\n",
      " 96%|█████████▌| 960/1000 [00:05<00:00, 183.20it/s]\u001B[A\n",
      " 98%|█████████▊| 979/1000 [00:05<00:00, 169.28it/s]\u001B[A\n",
      "100%|██████████| 1000/1000 [00:05<00:00, 188.79it/s][A\n",
      "\n",
      "  0%|          | 0/1000 [00:00<?, ?it/s]\u001B[A\n",
      "  2%|▏         | 15/1000 [00:00<00:06, 147.37it/s]\u001B[A\n",
      "  4%|▎         | 35/1000 [00:00<00:05, 175.72it/s]\u001B[A\n",
      "  6%|▌         | 57/1000 [00:00<00:05, 186.06it/s]\u001B[A\n",
      "  9%|▉         | 88/1000 [00:00<00:04, 225.04it/s]\u001B[A\n",
      " 11%|█         | 111/1000 [00:00<00:04, 219.82it/s]\u001B[A\n",
      " 13%|█▎        | 133/1000 [00:00<00:04, 212.02it/s]\u001B[A\n",
      " 16%|█▌        | 157/1000 [00:00<00:03, 220.42it/s]\u001B[A\n",
      " 18%|█▊        | 180/1000 [00:00<00:03, 208.41it/s]\u001B[A\n",
      " 20%|██        | 201/1000 [00:00<00:03, 202.90it/s]\u001B[A\n",
      " 22%|██▏       | 222/1000 [00:01<00:03, 201.30it/s]\u001B[A\n",
      " 24%|██▍       | 244/1000 [00:01<00:03, 204.51it/s]\u001B[A\n",
      " 27%|██▋       | 266/1000 [00:01<00:03, 208.35it/s]\u001B[A\n",
      " 29%|██▉       | 292/1000 [00:01<00:03, 221.20it/s]\u001B[A\n",
      " 32%|███▏      | 315/1000 [00:01<00:03, 218.57it/s]\u001B[A\n",
      " 34%|███▍      | 339/1000 [00:01<00:02, 223.02it/s]\u001B[A\n",
      " 36%|███▋      | 365/1000 [00:01<00:02, 232.08it/s]\u001B[A\n",
      " 39%|███▉      | 389/1000 [00:01<00:02, 227.25it/s]\u001B[A\n",
      " 42%|████▏     | 419/1000 [00:01<00:02, 246.14it/s]\u001B[A\n",
      " 44%|████▍     | 444/1000 [00:02<00:02, 231.61it/s]\u001B[A\n",
      " 47%|████▋     | 471/1000 [00:02<00:02, 240.65it/s]\u001B[A\n",
      " 50%|████▉     | 496/1000 [00:02<00:02, 206.80it/s]\u001B[A\n",
      " 52%|█████▏    | 522/1000 [00:02<00:02, 220.42it/s]\u001B[A\n",
      " 55%|█████▍    | 545/1000 [00:02<00:02, 193.88it/s]\u001B[A\n",
      " 57%|█████▊    | 575/1000 [00:02<00:02, 201.78it/s]\u001B[A\n",
      " 60%|█████▉    | 596/1000 [00:02<00:02, 197.21it/s]\u001B[A\n",
      " 62%|██████▏   | 622/1000 [00:02<00:01, 212.59it/s]\u001B[A\n",
      " 64%|██████▍   | 644/1000 [00:03<00:01, 204.64it/s]\u001B[A\n",
      " 66%|██████▋   | 665/1000 [00:03<00:01, 203.75it/s]\u001B[A\n",
      " 69%|██████▊   | 686/1000 [00:03<00:01, 184.93it/s]\u001B[A\n",
      " 71%|███████   | 709/1000 [00:03<00:01, 195.60it/s]\u001B[A\n",
      " 74%|███████▎  | 735/1000 [00:03<00:01, 211.57it/s]\u001B[A\n",
      " 76%|███████▌  | 760/1000 [00:03<00:01, 220.74it/s]\u001B[A\n",
      " 78%|███████▊  | 783/1000 [00:03<00:01, 210.53it/s]\u001B[A\n",
      " 80%|████████  | 805/1000 [00:03<00:01, 173.65it/s]\u001B[A\n",
      " 82%|████████▏ | 824/1000 [00:03<00:01, 174.87it/s]\u001B[A\n",
      " 84%|████████▍ | 843/1000 [00:04<00:00, 167.86it/s]\u001B[A\n",
      " 86%|████████▌ | 862/1000 [00:04<00:00, 169.63it/s]\u001B[A\n",
      " 88%|████████▊ | 884/1000 [00:04<00:00, 181.15it/s]\u001B[A\n",
      " 90%|█████████ | 903/1000 [00:04<00:00, 161.23it/s]\u001B[A\n",
      " 92%|█████████▏| 921/1000 [00:04<00:00, 165.83it/s]\u001B[A\n",
      " 94%|█████████▍| 939/1000 [00:04<00:00, 148.19it/s]\u001B[A\n",
      " 96%|█████████▌| 955/1000 [00:04<00:00, 145.51it/s]\u001B[A\n",
      " 98%|█████████▊| 979/1000 [00:04<00:00, 168.93it/s]\u001B[A\n",
      "100%|██████████| 1000/1000 [00:05<00:00, 196.24it/s][A\n"
     ]
    }
   ],
   "source": [
    "gpt2_tokenize_save_1024(cnn_dm_loader, \"../../data/cnn_daily_1024_tok_clip_1000.json\")"
   ],
   "metadata": {
    "collapsed": false,
    "pycharm": {
     "name": "#%%\n"
    }
   }
  },
  {
   "cell_type": "code",
   "execution_count": 24,
   "outputs": [
    {
     "data": {
      "text/plain": "Downloading:   0%|          | 0.00/878k [00:00<?, ?B/s]",
      "application/vnd.jupyter.widget-view+json": {
       "version_major": 2,
       "version_minor": 0,
       "model_id": "23d61e9c519b4c8692a9c54db335ae18"
      }
     },
     "metadata": {},
     "output_type": "display_data"
    },
    {
     "data": {
      "text/plain": "Downloading:   0%|          | 0.00/446k [00:00<?, ?B/s]",
      "application/vnd.jupyter.widget-view+json": {
       "version_major": 2,
       "version_minor": 0,
       "model_id": "f226136895a347349c22027c140fc185"
      }
     },
     "metadata": {},
     "output_type": "display_data"
    },
    {
     "data": {
      "text/plain": "Downloading:   0%|          | 0.00/90.0 [00:00<?, ?B/s]",
      "application/vnd.jupyter.widget-view+json": {
       "version_major": 2,
       "version_minor": 0,
       "model_id": "33558f40756a4c49a36f6fea4aaa107d"
      }
     },
     "metadata": {},
     "output_type": "display_data"
    },
    {
     "data": {
      "text/plain": "Downloading:   0%|          | 0.00/26.0 [00:00<?, ?B/s]",
      "application/vnd.jupyter.widget-view+json": {
       "version_major": 2,
       "version_minor": 0,
       "model_id": "158a16b5eddd41549583c4ddbf39a0ba"
      }
     },
     "metadata": {},
     "output_type": "display_data"
    },
    {
     "data": {
      "text/plain": "Downloading:   0%|          | 0.00/662 [00:00<?, ?B/s]",
      "application/vnd.jupyter.widget-view+json": {
       "version_major": 2,
       "version_minor": 0,
       "model_id": "0f696c03714c4efbb6b3bcb66b2ba1b2"
      }
     },
     "metadata": {},
     "output_type": "display_data"
    },
    {
     "data": {
      "text/plain": "2"
     },
     "execution_count": 24,
     "metadata": {},
     "output_type": "execute_result"
    }
   ],
   "source": [
    "tokenizer = GPT2Tokenizer.from_pretrained('sshleifer/tiny-gpt2')\n",
    "special_tokens = {'pad_token': '<|pad|>', 'sep_token': '<|sep|>'}\n",
    "tokenizer.add_special_tokens(special_tokens)"
   ],
   "metadata": {
    "collapsed": false,
    "pycharm": {
     "name": "#%%\n"
    }
   }
  },
  {
   "cell_type": "code",
   "execution_count": 25,
   "outputs": [
    {
     "name": "stderr",
     "output_type": "stream",
     "text": [
      "\n",
      "  0%|          | 0/1000 [00:00<?, ?it/s]\u001B[AToken indices sequence length is longer than the specified maximum sequence length for this model (1879 > 1024). Running this sequence through the model will result in indexing errors\n",
      "\n",
      "  0%|          | 4/1000 [00:00<00:27, 35.76it/s]\u001B[A\n",
      "  2%|▏         | 15/1000 [00:00<00:13, 72.06it/s]\u001B[A\n",
      "  2%|▎         | 25/1000 [00:00<00:11, 82.94it/s]\u001B[A\n",
      "  4%|▎         | 36/1000 [00:00<00:11, 87.50it/s]\u001B[A\n",
      "  4%|▍         | 45/1000 [00:00<00:10, 87.78it/s]\u001B[A\n",
      "  6%|▌         | 55/1000 [00:00<00:10, 89.86it/s]\u001B[A\n",
      "  7%|▋         | 73/1000 [00:00<00:07, 116.91it/s]\u001B[A\n",
      "  8%|▊         | 85/1000 [00:00<00:08, 113.70it/s]\u001B[A\n",
      " 10%|█         | 100/1000 [00:00<00:07, 123.42it/s]\u001B[A\n",
      " 11%|█▏        | 113/1000 [00:01<00:08, 104.62it/s]\u001B[A\n",
      " 13%|█▎        | 128/1000 [00:01<00:07, 114.68it/s]\u001B[A\n",
      " 14%|█▍        | 142/1000 [00:01<00:07, 117.74it/s]\u001B[A\n",
      " 16%|█▌        | 157/1000 [00:01<00:06, 123.67it/s]\u001B[A\n",
      " 17%|█▋        | 174/1000 [00:01<00:06, 133.09it/s]\u001B[A\n",
      " 19%|█▉        | 188/1000 [00:01<00:06, 133.77it/s]\u001B[A\n",
      " 20%|██        | 202/1000 [00:01<00:06, 132.21it/s]\u001B[A\n",
      " 22%|██▏       | 219/1000 [00:01<00:05, 142.03it/s]\u001B[A\n",
      " 24%|██▎       | 235/1000 [00:01<00:05, 145.16it/s]\u001B[A\n",
      " 25%|██▌       | 254/1000 [00:02<00:04, 157.78it/s]\u001B[A\n",
      " 27%|██▋       | 270/1000 [00:02<00:04, 148.85it/s]\u001B[A\n",
      " 29%|██▊       | 287/1000 [00:02<00:04, 148.25it/s]\u001B[A\n",
      " 30%|███       | 304/1000 [00:02<00:04, 150.71it/s]\u001B[A\n",
      " 32%|███▏      | 320/1000 [00:02<00:04, 140.73it/s]\u001B[A\n",
      " 34%|███▎      | 335/1000 [00:02<00:04, 137.44it/s]\u001B[A\n",
      " 35%|███▌      | 350/1000 [00:02<00:04, 140.42it/s]\u001B[A\n",
      " 37%|███▋      | 368/1000 [00:02<00:04, 150.79it/s]\u001B[A\n",
      " 38%|███▊      | 384/1000 [00:02<00:04, 152.01it/s]\u001B[A\n",
      " 40%|████      | 400/1000 [00:03<00:04, 135.25it/s]\u001B[A\n",
      " 41%|████▏     | 414/1000 [00:03<00:04, 135.10it/s]\u001B[A\n",
      " 43%|████▎     | 428/1000 [00:03<00:04, 133.27it/s]\u001B[A\n",
      " 44%|████▍     | 442/1000 [00:03<00:04, 130.05it/s]\u001B[A\n",
      " 46%|████▌     | 456/1000 [00:03<00:04, 111.32it/s]\u001B[A\n",
      " 47%|████▋     | 472/1000 [00:03<00:04, 122.85it/s]\u001B[A\n",
      " 49%|████▊     | 487/1000 [00:03<00:04, 119.38it/s]\u001B[A\n",
      " 50%|█████     | 500/1000 [00:03<00:04, 118.88it/s]\u001B[A\n",
      " 52%|█████▏    | 523/1000 [00:04<00:03, 145.81it/s]\u001B[A\n",
      " 54%|█████▍    | 541/1000 [00:04<00:02, 153.21it/s]\u001B[A\n",
      " 56%|█████▌    | 559/1000 [00:04<00:02, 158.90it/s]\u001B[A\n",
      " 58%|█████▊    | 581/1000 [00:04<00:02, 175.07it/s]\u001B[A\n",
      " 60%|██████    | 603/1000 [00:04<00:02, 187.73it/s]\u001B[A\n",
      " 62%|██████▏   | 623/1000 [00:04<00:02, 168.03it/s]\u001B[A\n",
      " 64%|██████▍   | 643/1000 [00:04<00:02, 175.96it/s]\u001B[A\n",
      " 66%|██████▌   | 662/1000 [00:04<00:02, 168.07it/s]\u001B[A\n",
      " 68%|██████▊   | 681/1000 [00:04<00:01, 173.69it/s]\u001B[A\n",
      " 70%|███████   | 700/1000 [00:05<00:01, 177.36it/s]\u001B[A\n",
      " 72%|███████▏  | 719/1000 [00:05<00:01, 170.01it/s]\u001B[A\n",
      " 74%|███████▎  | 737/1000 [00:05<00:01, 165.18it/s]\u001B[A\n",
      " 76%|███████▌  | 761/1000 [00:05<00:01, 185.52it/s]\u001B[A\n",
      " 78%|███████▊  | 780/1000 [00:05<00:01, 176.81it/s]\u001B[A\n",
      " 80%|███████▉  | 798/1000 [00:05<00:01, 170.38it/s]\u001B[A\n",
      " 82%|████████▏ | 816/1000 [00:05<00:01, 162.50it/s]\u001B[A\n",
      " 84%|████████▎ | 836/1000 [00:05<00:00, 171.74it/s]\u001B[A\n",
      " 85%|████████▌ | 854/1000 [00:06<00:00, 157.18it/s]\u001B[A\n",
      " 87%|████████▋ | 871/1000 [00:06<00:00, 156.93it/s]\u001B[A\n",
      " 90%|████████▉ | 896/1000 [00:06<00:00, 181.73it/s]\u001B[A\n",
      " 92%|█████████▏| 916/1000 [00:06<00:00, 185.51it/s]\u001B[A\n",
      " 94%|█████████▎| 935/1000 [00:06<00:00, 183.72it/s]\u001B[A\n",
      " 95%|█████████▌| 954/1000 [00:06<00:00, 176.86it/s]\u001B[A\n",
      " 97%|█████████▋| 972/1000 [00:06<00:00, 147.50it/s]\u001B[A\n",
      "100%|██████████| 1000/1000 [00:06<00:00, 145.11it/s][A\n",
      "\n",
      "  0%|          | 0/1000 [00:00<?, ?it/s]\u001B[A\n",
      "  2%|▏         | 21/1000 [00:00<00:04, 200.45it/s]\u001B[A\n",
      "  4%|▍         | 42/1000 [00:00<00:04, 198.46it/s]\u001B[A\n",
      "  6%|▋         | 63/1000 [00:00<00:04, 201.60it/s]\u001B[A\n",
      "  9%|▉         | 88/1000 [00:00<00:04, 217.60it/s]\u001B[A\n",
      " 11%|█▏        | 114/1000 [00:00<00:03, 231.32it/s]\u001B[A\n",
      " 14%|█▍        | 138/1000 [00:00<00:03, 215.74it/s]\u001B[A\n",
      " 16%|█▌        | 160/1000 [00:00<00:03, 216.39it/s]\u001B[A\n",
      " 18%|█▊        | 183/1000 [00:00<00:03, 219.60it/s]\u001B[A\n",
      " 21%|██        | 206/1000 [00:00<00:03, 201.79it/s]\u001B[A\n",
      " 23%|██▎       | 227/1000 [00:01<00:04, 190.29it/s]\u001B[A\n",
      " 25%|██▍       | 247/1000 [00:01<00:04, 181.08it/s]\u001B[A\n",
      " 27%|██▋       | 266/1000 [00:01<00:04, 171.52it/s]\u001B[A\n",
      " 28%|██▊       | 284/1000 [00:01<00:04, 149.64it/s]\u001B[A\n",
      " 31%|███       | 311/1000 [00:01<00:03, 173.19it/s]\u001B[A\n",
      " 34%|███▍      | 339/1000 [00:01<00:03, 198.49it/s]\u001B[A\n",
      " 36%|███▌      | 360/1000 [00:01<00:03, 172.22it/s]\u001B[A\n",
      " 38%|███▊      | 379/1000 [00:02<00:03, 173.14it/s]\u001B[A\n",
      " 40%|███▉      | 398/1000 [00:02<00:03, 163.29it/s]\u001B[A\n",
      " 42%|████▏     | 420/1000 [00:02<00:03, 176.19it/s]\u001B[A\n",
      " 44%|████▍     | 439/1000 [00:02<00:03, 173.36it/s]\u001B[A\n",
      " 46%|████▌     | 457/1000 [00:02<00:03, 167.44it/s]\u001B[A\n",
      " 48%|████▊     | 475/1000 [00:02<00:03, 163.13it/s]\u001B[A\n",
      " 49%|████▉     | 492/1000 [00:02<00:03, 160.61it/s]\u001B[A\n",
      " 51%|█████     | 509/1000 [00:02<00:03, 161.79it/s]\u001B[A\n",
      " 53%|█████▎    | 528/1000 [00:02<00:02, 169.29it/s]\u001B[A\n",
      " 55%|█████▍    | 546/1000 [00:03<00:02, 170.27it/s]\u001B[A\n",
      " 57%|█████▋    | 567/1000 [00:03<00:02, 179.51it/s]\u001B[A\n",
      " 59%|█████▊    | 586/1000 [00:03<00:02, 171.81it/s]\u001B[A\n",
      " 61%|██████    | 609/1000 [00:03<00:02, 188.03it/s]\u001B[A\n",
      " 63%|██████▎   | 631/1000 [00:03<00:01, 193.81it/s]\u001B[A\n",
      " 65%|██████▌   | 651/1000 [00:03<00:01, 189.94it/s]\u001B[A\n",
      " 67%|██████▋   | 673/1000 [00:03<00:01, 197.49it/s]\u001B[A\n",
      " 70%|██████▉   | 696/1000 [00:03<00:01, 205.64it/s]\u001B[A\n",
      " 72%|███████▏  | 717/1000 [00:03<00:01, 201.10it/s]\u001B[A\n",
      " 74%|███████▍  | 741/1000 [00:03<00:01, 204.27it/s]\u001B[A\n",
      " 76%|███████▌  | 762/1000 [00:04<00:01, 171.59it/s]\u001B[A\n",
      " 78%|███████▊  | 781/1000 [00:04<00:01, 175.06it/s]\u001B[A\n",
      " 80%|████████  | 804/1000 [00:04<00:01, 187.37it/s]\u001B[A\n",
      " 82%|████████▎ | 825/1000 [00:04<00:00, 186.52it/s]\u001B[A\n",
      " 84%|████████▍ | 845/1000 [00:04<00:00, 180.55it/s]\u001B[A\n",
      " 86%|████████▋ | 864/1000 [00:04<00:00, 180.93it/s]\u001B[A\n",
      " 88%|████████▊ | 883/1000 [00:04<00:00, 174.50it/s]\u001B[A\n",
      " 90%|█████████ | 904/1000 [00:04<00:00, 182.39it/s]\u001B[A\n",
      " 93%|█████████▎| 927/1000 [00:05<00:00, 195.55it/s]\u001B[A\n",
      " 95%|█████████▍| 947/1000 [00:05<00:00, 184.50it/s]\u001B[A\n",
      " 97%|█████████▋| 968/1000 [00:05<00:00, 186.03it/s]\u001B[A\n",
      "100%|██████████| 1000/1000 [00:05<00:00, 182.57it/s][A\n",
      "\n",
      "  0%|          | 0/1000 [00:00<?, ?it/s]\u001B[A\n",
      "  2%|▏         | 15/1000 [00:00<00:06, 143.08it/s]\u001B[A\n",
      "  4%|▎         | 35/1000 [00:00<00:05, 170.70it/s]\u001B[A\n",
      "  5%|▌         | 54/1000 [00:00<00:05, 174.13it/s]\u001B[A\n",
      "  8%|▊         | 84/1000 [00:00<00:04, 221.84it/s]\u001B[A\n",
      " 11%|█         | 107/1000 [00:00<00:04, 212.83it/s]\u001B[A\n",
      " 13%|█▎        | 129/1000 [00:00<00:04, 184.27it/s]\u001B[A\n",
      " 15%|█▌        | 151/1000 [00:00<00:04, 194.27it/s]\u001B[A\n",
      " 17%|█▋        | 172/1000 [00:00<00:04, 191.63it/s]\u001B[A\n",
      " 19%|█▉        | 192/1000 [00:01<00:04, 186.84it/s]\u001B[A\n",
      " 21%|██        | 212/1000 [00:01<00:04, 189.04it/s]\u001B[A\n",
      " 23%|██▎       | 232/1000 [00:01<00:04, 175.93it/s]\u001B[A\n",
      " 26%|██▌       | 256/1000 [00:01<00:03, 189.36it/s]\u001B[A\n",
      " 28%|██▊       | 280/1000 [00:01<00:03, 201.71it/s]\u001B[A\n",
      " 30%|███       | 305/1000 [00:01<00:03, 213.39it/s]\u001B[A\n",
      " 33%|███▎      | 327/1000 [00:01<00:03, 194.38it/s]\u001B[A\n",
      " 36%|███▌      | 356/1000 [00:01<00:02, 218.63it/s]\u001B[A\n",
      " 38%|███▊      | 383/1000 [00:01<00:02, 231.79it/s]\u001B[A\n",
      " 41%|████      | 407/1000 [00:02<00:02, 226.88it/s]\u001B[A\n",
      " 43%|████▎     | 431/1000 [00:02<00:02, 230.13it/s]\u001B[A\n",
      " 46%|████▌     | 455/1000 [00:02<00:02, 226.18it/s]\u001B[A\n",
      " 48%|████▊     | 478/1000 [00:02<00:02, 225.10it/s]\u001B[A\n",
      " 50%|█████     | 501/1000 [00:02<00:02, 204.59it/s]\u001B[A\n",
      " 52%|█████▎    | 525/1000 [00:02<00:02, 204.53it/s]\u001B[A\n",
      " 55%|█████▍    | 546/1000 [00:02<00:02, 188.89it/s]\u001B[A\n",
      " 57%|█████▊    | 575/1000 [00:02<00:02, 195.83it/s]\u001B[A\n",
      " 60%|██████    | 602/1000 [00:02<00:01, 213.58it/s]\u001B[A\n",
      " 62%|██████▎   | 625/1000 [00:03<00:01, 217.09it/s]\u001B[A\n",
      " 65%|██████▍   | 648/1000 [00:03<00:01, 211.93it/s]\u001B[A\n",
      " 67%|██████▋   | 670/1000 [00:03<00:01, 205.93it/s]\u001B[A\n",
      " 69%|██████▉   | 691/1000 [00:03<00:01, 194.60it/s]\u001B[A\n",
      " 72%|███████▏  | 723/1000 [00:03<00:01, 227.91it/s]\u001B[A\n",
      " 75%|███████▍  | 747/1000 [00:03<00:01, 229.36it/s]\u001B[A\n",
      " 77%|███████▋  | 771/1000 [00:03<00:01, 219.44it/s]\u001B[A\n",
      " 79%|███████▉  | 794/1000 [00:03<00:01, 186.95it/s]\u001B[A\n",
      " 81%|████████▏ | 814/1000 [00:04<00:00, 189.89it/s]\u001B[A\n",
      " 83%|████████▎ | 834/1000 [00:04<00:00, 190.07it/s]\u001B[A\n",
      " 86%|████████▌ | 855/1000 [00:04<00:00, 193.03it/s]\u001B[A\n",
      " 88%|████████▊ | 875/1000 [00:04<00:00, 185.44it/s]\u001B[A\n",
      " 89%|████████▉ | 894/1000 [00:04<00:00, 166.35it/s]\u001B[A\n",
      " 92%|█████████▏| 918/1000 [00:04<00:00, 178.85it/s]\u001B[A\n",
      " 94%|█████████▎| 937/1000 [00:04<00:00, 174.44it/s]\u001B[A\n",
      " 96%|█████████▌| 955/1000 [00:04<00:00, 161.17it/s]\u001B[A\n",
      " 98%|█████████▊| 981/1000 [00:04<00:00, 183.20it/s]\u001B[A\n",
      "100%|██████████| 1000/1000 [00:05<00:00, 197.23it/s]\u001B[A\n"
     ]
    }
   ],
   "source": [
    "gpt2_tokenize_save_1024(cnn_dm_loader, \"../../data/cnn_daily_1024_tok_clip_1000_tiny_gpt2.json\")"
   ],
   "metadata": {
    "collapsed": false,
    "pycharm": {
     "name": "#%%\n"
    }
   }
  },
  {
   "cell_type": "code",
   "execution_count": null,
   "outputs": [],
   "source": [],
   "metadata": {
    "collapsed": false,
    "pycharm": {
     "name": "#%%\n"
    }
   }
  }
 ],
 "metadata": {
  "kernelspec": {
   "display_name": "Python 3",
   "language": "python",
   "name": "python3"
  },
  "language_info": {
   "codemirror_mode": {
    "name": "ipython",
    "version": 2
   },
   "file_extension": ".py",
   "mimetype": "text/x-python",
   "name": "python",
   "nbconvert_exporter": "python",
   "pygments_lexer": "ipython2",
   "version": "2.7.6"
  }
 },
 "nbformat": 4,
 "nbformat_minor": 0
}