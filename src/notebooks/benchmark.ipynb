{
 "cells": [
  {
   "cell_type": "markdown",
   "source": [
    "# Benchmark classical approaches"
   ],
   "metadata": {
    "collapsed": false,
    "pycharm": {
     "name": "#%% md\n"
    }
   }
  },
  {
   "cell_type": "code",
   "execution_count": 1,
   "metadata": {
    "collapsed": true,
    "pycharm": {
     "name": "#%%\n"
    }
   },
   "outputs": [
    {
     "name": "stderr",
     "output_type": "stream",
     "text": [
      "[nltk_data] Downloading package punkt to /home/pasha/nltk_data...\n",
      "[nltk_data]   Package punkt is already up-to-date!\n",
      "[nltk_data] Downloading package stopwords to /home/pasha/nltk_data...\n",
      "[nltk_data]   Package stopwords is already up-to-date!\n",
      "[nltk_data] Downloading package wordnet to /home/pasha/nltk_data...\n",
      "[nltk_data]   Package wordnet is already up-to-date!\n",
      "[nltk_data] Downloading package omw-1.4 to /home/pasha/nltk_data...\n",
      "[nltk_data]   Package omw-1.4 is already up-to-date!\n",
      "2022-05-26 15:45:11.862237: I tensorflow/stream_executor/platform/default/dso_loader.cc:49] Successfully opened dynamic library libcudart.so.10.1\n"
     ]
    },
    {
     "name": "stdout",
     "output_type": "stream",
     "text": [
      "DEBUG: Loaded GloVe embedings from /home/pasha/Documents/ML/ML_project_summarization/src/embedings/../../data/glove/glove.6B.100d.txt\n"
     ]
    }
   ],
   "source": [
    "import os\n",
    "import sys\n",
    "import nltk\n",
    "from tqdm import trange\n",
    "nltk.download('punkt')\n",
    "nltk.download('stopwords')\n",
    "from nltk.corpus import stopwords\n",
    "sys.path.append(os.path.join(os.getcwd(), \"..\", \"..\"))\n",
    "from src.preprocessing.corpus_preprocessor import CorpusPreprocessor\n",
    "from src.preprocessing.functions import *\n",
    "from src.preprocessing.consts import EMAIL_REGEX\n",
    "from src.ds_loaders.xsum import XSumLoader\n",
    "from src.metrics import BLEU, ROUGE\n",
    "from src.model import *"
   ]
  },
  {
   "cell_type": "markdown",
   "source": [
    "## Load dataset"
   ],
   "metadata": {
    "collapsed": false,
    "pycharm": {
     "name": "#%% md\n"
    }
   }
  },
  {
   "cell_type": "code",
   "execution_count": 2,
   "outputs": [
    {
     "name": "stderr",
     "output_type": "stream",
     "text": [
      "Using custom data configuration default\n",
      "Reusing dataset xsum (/home/pasha/.cache/huggingface/datasets/xsum/default/1.2.0/32c23220eadddb1149b16ed2e9430a05293768cfffbdfd151058697d4c11f934)\n"
     ]
    },
    {
     "data": {
      "text/plain": "  0%|          | 0/3 [00:00<?, ?it/s]",
      "application/vnd.jupyter.widget-view+json": {
       "version_major": 2,
       "version_minor": 0,
       "model_id": "ba9493eb11954612b15af17e15ff3e09"
      }
     },
     "metadata": {},
     "output_type": "display_data"
    }
   ],
   "source": [
    "loader = XSumLoader()\n",
    "loader.load()"
   ],
   "metadata": {
    "collapsed": false,
    "pycharm": {
     "name": "#%%\n"
    }
   }
  },
  {
   "cell_type": "code",
   "execution_count": 3,
   "outputs": [],
   "source": [
    "orig_documents, orig_summaries = loader.X_val, loader.y_val"
   ],
   "metadata": {
    "collapsed": false,
    "pycharm": {
     "name": "#%%\n"
    }
   }
  },
  {
   "cell_type": "markdown",
   "source": [
    "## Preprocess dataset"
   ],
   "metadata": {
    "collapsed": false,
    "pycharm": {
     "name": "#%% md\n"
    }
   }
  },
  {
   "cell_type": "code",
   "execution_count": 4,
   "outputs": [],
   "source": [
    "# preprocessor = CorpusPreprocessor(verbose=False).\\\n",
    "#     add(to_lower()).\\\n",
    "#     add(expand_contractions()).\\\n",
    "#     add(replace_by_regex([(EMAIL_REGEX, \"EMAIL\")])).\\\n",
    "#     add(remove_by_regex([r\"\\d\"])).\\\n",
    "#     add(remove_symbols(string.punctuation.replace('.', ''))).\\\n",
    "#     add(lemmatize())\n",
    "#     # add(remove_words(set(stopwords.words('english'))))\n"
   ],
   "metadata": {
    "collapsed": false,
    "pycharm": {
     "name": "#%%\n"
    }
   }
  },
  {
   "cell_type": "code",
   "execution_count": 5,
   "outputs": [],
   "source": [
    "# documents = []\n",
    "# summaries = []\n",
    "# for idx in trange(len(orig_documents)):\n",
    "#     doc = orig_documents[idx]\n",
    "#     summ = orig_summaries[idx]\n",
    "#     if len(doc) == 0 or len(summ) == 0:\n",
    "#         continue\n",
    "#     documents.append(preprocessor.transform(doc))\n",
    "#     summaries.append(preprocessor.transform(summ))"
   ],
   "metadata": {
    "collapsed": false,
    "pycharm": {
     "name": "#%%\n"
    }
   }
  },
  {
   "cell_type": "markdown",
   "source": [
    "## Create models and metrics and preprocessors"
   ],
   "metadata": {
    "collapsed": false,
    "pycharm": {
     "name": "#%% md\n"
    }
   }
  },
  {
   "cell_type": "code",
   "execution_count": 21,
   "outputs": [
    {
     "name": "stdout",
     "output_type": "stream",
     "text": [
      "DEBUG: Loaded GloVe embedings from /home/pasha/Documents/ML/ML_project_summarization/src/embedings/../../data/glove/glove.6B.100d.txt\n"
     ]
    }
   ],
   "source": [
    "# 1. models\n",
    "summary_size = 1\n",
    "TextRank = TextRankModel(summary_size)\n",
    "LexRank = LexRankModel(summary_size)\n",
    "Lsa = LsaModel(summary_size)\n",
    "Luhn = LuhnModel(summary_size)\n",
    "KL = KLModel(summary_size)\n",
    "MyTextRank = MyTextRankModel(summary_size)\n",
    "\n",
    "models = [ TextRank, LexRank, Lsa, Luhn, KL, MyTextRank ]"
   ],
   "metadata": {
    "collapsed": false,
    "pycharm": {
     "name": "#%%\n"
    }
   }
  },
  {
   "cell_type": "code",
   "execution_count": 22,
   "outputs": [],
   "source": [
    "# 2. metrics\n",
    "bleu1 = BLEU(1)\n",
    "bleu2 = BLEU(2)\n",
    "bleu3 = BLEU(3)\n",
    "bleu4 = BLEU(4)\n",
    "\n",
    "rouge1_f1 = ROUGE(\"rouge1\", \"fmeasure\")\n",
    "rouge2_f1 = ROUGE(\"rouge2\", \"fmeasure\")\n",
    "rougeL_f1 = ROUGE(\"rougeL\", \"fmeasure\")\n",
    "rouge1_r = ROUGE(\"rouge1\", \"recall\")\n",
    "rouge2_r = ROUGE(\"rouge2\", \"recall\")\n",
    "rougeL_r = ROUGE(\"rougeL\", \"recall\")\n",
    "\n",
    "metrics = [ bleu1, bleu2, bleu3, bleu4,\n",
    "            rouge1_f1, rouge2_f1, rougeL_f1, rouge1_r, rouge2_r, rougeL_r ]"
   ],
   "metadata": {
    "collapsed": false,
    "pycharm": {
     "name": "#%%\n"
    }
   }
  },
  {
   "cell_type": "code",
   "execution_count": 23,
   "outputs": [],
   "source": [
    "# 3. preprocessors\n",
    "preprocessor_strong = CorpusPreprocessor(name=\"strong\").\\\n",
    "    add(to_lower()).\\\n",
    "    add(expand_contractions()).\\\n",
    "    add(replace_by_regex([(EMAIL_REGEX, \"EMAIL\")])).\\\n",
    "    add(remove_by_regex([r\"\\d\"])).\\\n",
    "    add(remove_symbols(string.punctuation.replace('.', ''))).\\\n",
    "    add(lemmatize()).\\\n",
    "    add(remove_words(set(stopwords.words('english'))))\n",
    "\n",
    "preprocessor_mid = CorpusPreprocessor(name=\"mid\").\\\n",
    "    add(to_lower()).\\\n",
    "    add(expand_contractions()).\\\n",
    "    add(replace_by_regex([(EMAIL_REGEX, \"EMAIL\")])).\\\n",
    "    add(remove_by_regex([r\"\\d\"])).\\\n",
    "    add(remove_symbols(string.punctuation.replace('.', '')))\n",
    "\n",
    "preprocessor_simple = CorpusPreprocessor(name=\"simple\").\\\n",
    "    add(to_lower()).\\\n",
    "    add(replace_by_regex([(EMAIL_REGEX, \"EMAIL\")])).\\\n",
    "    add(remove_symbols(string.punctuation.replace('.', '')))\n",
    "\n",
    "preprocessor_no = CorpusPreprocessor(name=\"nothing\")\n",
    "preprocessors = [preprocessor_strong, preprocessor_mid, preprocessor_simple, preprocessor_no]"
   ],
   "metadata": {
    "collapsed": false,
    "pycharm": {
     "name": "#%%\n"
    }
   }
  },
  {
   "cell_type": "code",
   "execution_count": 24,
   "outputs": [],
   "source": [
    "result = {}\n",
    "def evaluate_models(preprocessors,\n",
    "                    models,\n",
    "                    metrics,\n",
    "                    documents,\n",
    "                    summaries):\n",
    "    n_jobs = len(models) * len(preprocessors)\n",
    "    n_done = 0\n",
    "    for prep in preprocessors:\n",
    "        result[str(prep)] = {}\n",
    "        print(f\"Starting with preprocessor {prep}\")\n",
    "        prep_docs = prep.transform(documents)\n",
    "        prep_sum = prep.transform(summaries)\n",
    "        for model in models:\n",
    "            result[str(prep)][str(model)] = {}\n",
    "            print(f\"    Model: {model}\")\n",
    "            model.fit(prep_docs)\n",
    "            pred = model.predict(prep_docs)\n",
    "            # print(f\"        \", end=\"\")\n",
    "            for m_idx, metric in enumerate(metrics):\n",
    "                print(f\"      {metric}... \", end=\"\")\n",
    "                metric.reset_state()\n",
    "                metric.update_state(pred, prep_sum)\n",
    "                value = metric.result()\n",
    "                result[str(prep)][str(model)][str(metric)] = value\n",
    "                print(f\"{value} - {m_idx+1} / {len(metrics)}\")\n",
    "            print()\n",
    "            n_done += 1\n",
    "            print(f\"Done: {n_done}/{n_jobs}\")\n",
    "    return result"
   ],
   "metadata": {
    "collapsed": false,
    "pycharm": {
     "name": "#%%\n"
    }
   }
  },
  {
   "cell_type": "code",
   "execution_count": 26,
   "outputs": [
    {
     "name": "stdout",
     "output_type": "stream",
     "text": [
      "Starting with preprocessor CourpusPreprocessor(strong)\n",
      "    Model: TextRank\n"
     ]
    },
    {
     "name": "stderr",
     "output_type": "stream",
     "text": [
      "100%|██████████| 11332/11332 [01:11<00:00, 159.57it/s]\n"
     ]
    },
    {
     "name": "stdout",
     "output_type": "stream",
     "text": [
      "      BLEU-1... 0.09680720881076871 - 1 / 10\n",
      "      BLEU-2... 0.03845039955288756 - 2 / 10\n",
      "      BLEU-3... 0.015479914618198075 - 3 / 10\n",
      "      BLEU-4... 0.006538746856412794 - 4 / 10\n",
      "      ROUGE-1-fmeasure... 0.13007354789886896 - 5 / 10\n",
      "      ROUGE-2-fmeasure... 0.0208842889198962 - 6 / 10\n",
      "      ROUGE-L-fmeasure... 0.10526554573311184 - 7 / 10\n",
      "      ROUGE-1-recall... 0.16140673311994297 - 8 / 10\n",
      "      ROUGE-2-recall... 0.02659906348806116 - 9 / 10\n",
      "      ROUGE-L-recall... 0.1306985926412772 - 10 / 10\n",
      "\n",
      "Done: 1/20\n",
      "    Model: LexRank\n"
     ]
    },
    {
     "name": "stderr",
     "output_type": "stream",
     "text": [
      "100%|██████████| 11332/11332 [01:15<00:00, 149.35it/s]\n"
     ]
    },
    {
     "name": "stdout",
     "output_type": "stream",
     "text": [
      "      BLEU-1... 0.10481592471646123 - 1 / 10\n",
      "      BLEU-2... 0.039742980396033 - 2 / 10\n",
      "      BLEU-3... 0.015753875527716815 - 3 / 10\n",
      "      BLEU-4... 0.0065695067986235355 - 4 / 10\n",
      "      ROUGE-1-fmeasure... 0.11485304673723976 - 5 / 10\n",
      "      ROUGE-2-fmeasure... 0.01652320625328094 - 6 / 10\n",
      "      ROUGE-L-fmeasure... 0.09676674416946662 - 7 / 10\n",
      "      ROUGE-1-recall... 0.1174883190936935 - 8 / 10\n",
      "      ROUGE-2-recall... 0.016932073694746697 - 9 / 10\n",
      "      ROUGE-L-recall... 0.09850349639780925 - 10 / 10\n",
      "\n",
      "Done: 2/20\n",
      "    Model: Lsa\n"
     ]
    },
    {
     "name": "stderr",
     "output_type": "stream",
     "text": [
      "100%|██████████| 11332/11332 [01:08<00:00, 164.28it/s]\n"
     ]
    },
    {
     "name": "stdout",
     "output_type": "stream",
     "text": [
      "      BLEU-1... 0.0803511984021305 - 1 / 10\n",
      "      BLEU-2... 0.028651601505534207 - 2 / 10\n",
      "      BLEU-3... 0.010071892381747327 - 3 / 10\n",
      "      BLEU-4... 0.0037947476650204777 - 4 / 10\n",
      "      ROUGE-1-fmeasure... 0.10476471593510817 - 5 / 10\n",
      "      ROUGE-2-fmeasure... 0.013693276602089124 - 6 / 10\n",
      "      ROUGE-L-fmeasure... 0.08563711713453832 - 7 / 10\n",
      "      ROUGE-1-recall... 0.12911907538120887 - 8 / 10\n",
      "      ROUGE-2-recall... 0.01728573506100953 - 9 / 10\n",
      "      ROUGE-L-recall... 0.10572051131163052 - 10 / 10\n",
      "\n",
      "Done: 3/20\n",
      "    Model: Luhn\n"
     ]
    },
    {
     "name": "stderr",
     "output_type": "stream",
     "text": [
      "100%|██████████| 11332/11332 [00:33<00:00, 335.49it/s]\n"
     ]
    },
    {
     "name": "stdout",
     "output_type": "stream",
     "text": [
      "      BLEU-1... 0.0997217117353636 - 1 / 10\n",
      "      BLEU-2... 0.038942402099813006 - 2 / 10\n",
      "      BLEU-3... 0.01567320532235933 - 3 / 10\n",
      "      BLEU-4... 0.006576033162646193 - 4 / 10\n",
      "      ROUGE-1-fmeasure... 0.12341915771513523 - 5 / 10\n",
      "      ROUGE-2-fmeasure... 0.018879409441528702 - 6 / 10\n",
      "      ROUGE-L-fmeasure... 0.10148815146153342 - 7 / 10\n",
      "      ROUGE-1-recall... 0.14095261885928628 - 8 / 10\n",
      "      ROUGE-2-recall... 0.022271970583523995 - 9 / 10\n",
      "      ROUGE-L-recall... 0.11565436624043832 - 10 / 10\n",
      "\n",
      "Done: 4/20\n",
      "    Model: KL\n"
     ]
    },
    {
     "name": "stderr",
     "output_type": "stream",
     "text": [
      "100%|██████████| 11332/11332 [04:02<00:00, 46.64it/s] \n"
     ]
    },
    {
     "name": "stdout",
     "output_type": "stream",
     "text": [
      "      BLEU-1... 0.09326026604450956 - 1 / 10\n",
      "      BLEU-2... 0.036853767867407 - 2 / 10\n",
      "      BLEU-3... 0.014707626668989598 - 3 / 10\n",
      "      BLEU-4... 0.006128522855635166 - 4 / 10\n",
      "      ROUGE-1-fmeasure... 0.1240853831154804 - 5 / 10\n",
      "      ROUGE-2-fmeasure... 0.01995849666908742 - 6 / 10\n",
      "      ROUGE-L-fmeasure... 0.101089304103051 - 7 / 10\n",
      "      ROUGE-1-recall... 0.15153945577721745 - 8 / 10\n",
      "      ROUGE-2-recall... 0.024687617587305297 - 9 / 10\n",
      "      ROUGE-L-recall... 0.1236166937011883 - 10 / 10\n",
      "\n",
      "Done: 5/20\n",
      "Starting with preprocessor CourpusPreprocessor(mid)\n",
      "    Model: TextRank\n"
     ]
    },
    {
     "name": "stderr",
     "output_type": "stream",
     "text": [
      "100%|██████████| 11332/11332 [02:03<00:00, 91.99it/s] \n"
     ]
    },
    {
     "name": "stdout",
     "output_type": "stream",
     "text": [
      "      BLEU-1... 0.13328274214271224 - 1 / 10\n",
      "      BLEU-2... 0.048656300728191486 - 2 / 10\n",
      "      BLEU-3... 0.021247500803551932 - 3 / 10\n",
      "      BLEU-4... 0.010825413380285477 - 4 / 10\n",
      "      ROUGE-1-fmeasure... 0.1737770173102477 - 5 / 10\n",
      "      ROUGE-2-fmeasure... 0.02392013734959183 - 6 / 10\n",
      "      ROUGE-L-fmeasure... 0.12700778032626237 - 7 / 10\n",
      "      ROUGE-1-recall... 0.23227950561239766 - 8 / 10\n",
      "      ROUGE-2-recall... 0.032485066915468486 - 9 / 10\n",
      "      ROUGE-L-recall... 0.16973331484158827 - 10 / 10\n",
      "\n",
      "Done: 6/20\n",
      "    Model: LexRank\n"
     ]
    },
    {
     "name": "stderr",
     "output_type": "stream",
     "text": [
      "100%|██████████| 11332/11332 [01:50<00:00, 102.28it/s]\n"
     ]
    },
    {
     "name": "stdout",
     "output_type": "stream",
     "text": [
      "      BLEU-1... 0.15236908696095924 - 1 / 10\n",
      "      BLEU-2... 0.05438131186722801 - 2 / 10\n",
      "      BLEU-3... 0.023584992852121775 - 3 / 10\n",
      "      BLEU-4... 0.011834011833242775 - 4 / 10\n",
      "      ROUGE-1-fmeasure... 0.16992625547062468 - 5 / 10\n",
      "      ROUGE-2-fmeasure... 0.02231125079419743 - 6 / 10\n",
      "      ROUGE-L-fmeasure... 0.12551699124799914 - 7 / 10\n",
      "      ROUGE-1-recall... 0.19111664879870754 - 8 / 10\n",
      "      ROUGE-2-recall... 0.02541395858745056 - 9 / 10\n",
      "      ROUGE-L-recall... 0.14060801185951188 - 10 / 10\n",
      "\n",
      "Done: 7/20\n",
      "    Model: Lsa\n"
     ]
    },
    {
     "name": "stderr",
     "output_type": "stream",
     "text": [
      "100%|██████████| 11332/11332 [01:14<00:00, 151.31it/s]\n"
     ]
    },
    {
     "name": "stdout",
     "output_type": "stream",
     "text": [
      "      BLEU-1... 0.14039013378059348 - 1 / 10\n",
      "      BLEU-2... 0.04377713219596531 - 2 / 10\n",
      "      BLEU-3... 0.017570133446291658 - 3 / 10\n",
      "      BLEU-4... 0.008184124459291519 - 4 / 10\n",
      "      ROUGE-1-fmeasure... 0.15006566579382366 - 5 / 10\n",
      "      ROUGE-2-fmeasure... 0.015368106633386376 - 6 / 10\n",
      "      ROUGE-L-fmeasure... 0.1095604887508266 - 7 / 10\n",
      "      ROUGE-1-recall... 0.15805597935565485 - 8 / 10\n",
      "      ROUGE-2-recall... 0.01632486938573582 - 9 / 10\n",
      "      ROUGE-L-recall... 0.11519459613044042 - 10 / 10\n",
      "\n",
      "Done: 8/20\n",
      "    Model: Luhn\n"
     ]
    },
    {
     "name": "stderr",
     "output_type": "stream",
     "text": [
      "100%|██████████| 11332/11332 [00:40<00:00, 278.28it/s]\n"
     ]
    },
    {
     "name": "stdout",
     "output_type": "stream",
     "text": [
      "      BLEU-1... 0.13778710699619526 - 1 / 10\n",
      "      BLEU-2... 0.050415753104553325 - 2 / 10\n",
      "      BLEU-3... 0.0221507169304994 - 3 / 10\n",
      "      BLEU-4... 0.011323545356783584 - 4 / 10\n",
      "      ROUGE-1-fmeasure... 0.1748245382899577 - 5 / 10\n",
      "      ROUGE-2-fmeasure... 0.024308206532682262 - 6 / 10\n",
      "      ROUGE-L-fmeasure... 0.12669470576389383 - 7 / 10\n",
      "      ROUGE-1-recall... 0.22384845187665797 - 8 / 10\n",
      "      ROUGE-2-recall... 0.031609504519659284 - 9 / 10\n",
      "      ROUGE-L-recall... 0.16215418239666754 - 10 / 10\n",
      "\n",
      "Done: 9/20\n",
      "    Model: KL\n"
     ]
    },
    {
     "name": "stderr",
     "output_type": "stream",
     "text": [
      "100%|██████████| 11332/11332 [05:13<00:00, 36.12it/s] \n"
     ]
    },
    {
     "name": "stdout",
     "output_type": "stream",
     "text": [
      "      BLEU-1... 0.14889495406736786 - 1 / 10\n",
      "      BLEU-2... 0.05524890100262196 - 2 / 10\n",
      "      BLEU-3... 0.024375345550722648 - 3 / 10\n",
      "      BLEU-4... 0.012407283399724722 - 4 / 10\n",
      "      ROUGE-1-fmeasure... 0.1732041720417614 - 5 / 10\n",
      "      ROUGE-2-fmeasure... 0.02486516104461113 - 6 / 10\n",
      "      ROUGE-L-fmeasure... 0.1304430548450467 - 7 / 10\n",
      "      ROUGE-1-recall... 0.19718918428801246 - 8 / 10\n",
      "      ROUGE-2-recall... 0.028462736257747704 - 9 / 10\n",
      "      ROUGE-L-recall... 0.14876444060374563 - 10 / 10\n",
      "\n",
      "Done: 10/20\n",
      "Starting with preprocessor CourpusPreprocessor(simple)\n",
      "    Model: TextRank\n"
     ]
    },
    {
     "name": "stderr",
     "output_type": "stream",
     "text": [
      "100%|██████████| 11332/11332 [01:56<00:00, 97.43it/s] \n"
     ]
    },
    {
     "name": "stdout",
     "output_type": "stream",
     "text": [
      "      BLEU-1... 0.12713525496893147 - 1 / 10\n",
      "      BLEU-2... 0.046807890995236065 - 2 / 10\n",
      "      BLEU-3... 0.020437044028562175 - 3 / 10\n",
      "      BLEU-4... 0.010410460704587378 - 4 / 10\n",
      "      ROUGE-1-fmeasure... 0.1718748901520785 - 5 / 10\n",
      "      ROUGE-2-fmeasure... 0.024049386921585918 - 6 / 10\n",
      "      ROUGE-L-fmeasure... 0.12429937512675897 - 7 / 10\n",
      "      ROUGE-1-recall... 0.24443967980315942 - 8 / 10\n",
      "      ROUGE-2-recall... 0.03491945725217724 - 9 / 10\n",
      "      ROUGE-L-recall... 0.17655753528189244 - 10 / 10\n",
      "\n",
      "Done: 11/20\n",
      "    Model: LexRank\n"
     ]
    },
    {
     "name": "stderr",
     "output_type": "stream",
     "text": [
      "100%|██████████| 11332/11332 [01:46<00:00, 106.74it/s]\n"
     ]
    },
    {
     "name": "stdout",
     "output_type": "stream",
     "text": [
      "      BLEU-1... 0.1446459123885262 - 1 / 10\n",
      "      BLEU-2... 0.051181758416581576 - 2 / 10\n",
      "      BLEU-3... 0.02175756883922734 - 3 / 10\n",
      "      BLEU-4... 0.010758155732988413 - 4 / 10\n",
      "      ROUGE-1-fmeasure... 0.16775743787487649 - 5 / 10\n",
      "      ROUGE-2-fmeasure... 0.02155647351941953 - 6 / 10\n",
      "      ROUGE-L-fmeasure... 0.12319120247233245 - 7 / 10\n",
      "      ROUGE-1-recall... 0.1987319579968772 - 8 / 10\n",
      "      ROUGE-2-recall... 0.026145080225413786 - 9 / 10\n",
      "      ROUGE-L-recall... 0.14514186373492843 - 10 / 10\n",
      "\n",
      "Done: 12/20\n",
      "    Model: Lsa\n"
     ]
    },
    {
     "name": "stderr",
     "output_type": "stream",
     "text": [
      "100%|██████████| 11332/11332 [01:09<00:00, 162.13it/s]\n"
     ]
    },
    {
     "name": "stdout",
     "output_type": "stream",
     "text": [
      "      BLEU-1... 0.13650967256818647 - 1 / 10\n",
      "      BLEU-2... 0.042758517501609104 - 2 / 10\n",
      "      BLEU-3... 0.01721009033327554 - 3 / 10\n",
      "      BLEU-4... 0.008113824126423549 - 4 / 10\n",
      "      ROUGE-1-fmeasure... 0.1480195374627037 - 5 / 10\n",
      "      ROUGE-2-fmeasure... 0.015266478905297552 - 6 / 10\n",
      "      ROUGE-L-fmeasure... 0.10780956572757572 - 7 / 10\n",
      "      ROUGE-1-recall... 0.15933852233660672 - 8 / 10\n",
      "      ROUGE-2-recall... 0.016605423235127027 - 9 / 10\n",
      "      ROUGE-L-recall... 0.11568566884625367 - 10 / 10\n",
      "\n",
      "Done: 13/20\n",
      "    Model: Luhn\n"
     ]
    },
    {
     "name": "stderr",
     "output_type": "stream",
     "text": [
      "100%|██████████| 11332/11332 [00:39<00:00, 288.81it/s]\n"
     ]
    },
    {
     "name": "stdout",
     "output_type": "stream",
     "text": [
      "      BLEU-1... 0.13150909165976526 - 1 / 10\n",
      "      BLEU-2... 0.04849586120455783 - 2 / 10\n",
      "      BLEU-3... 0.021305438845896273 - 3 / 10\n",
      "      BLEU-4... 0.010893104475261386 - 4 / 10\n",
      "      ROUGE-1-fmeasure... 0.1730207103891796 - 5 / 10\n",
      "      ROUGE-2-fmeasure... 0.02424853559157407 - 6 / 10\n",
      "      ROUGE-L-fmeasure... 0.12427738350170178 - 7 / 10\n",
      "      ROUGE-1-recall... 0.23493828030994746 - 8 / 10\n",
      "      ROUGE-2-recall... 0.03367059997950754 - 9 / 10\n",
      "      ROUGE-L-recall... 0.16850376864381789 - 10 / 10\n",
      "\n",
      "Done: 14/20\n",
      "    Model: KL\n"
     ]
    },
    {
     "name": "stderr",
     "output_type": "stream",
     "text": [
      "100%|██████████| 11332/11332 [04:45<00:00, 39.66it/s] \n"
     ]
    },
    {
     "name": "stdout",
     "output_type": "stream",
     "text": [
      "      BLEU-1... 0.14271443420241867 - 1 / 10\n",
      "      BLEU-2... 0.052853163379008236 - 2 / 10\n",
      "      BLEU-3... 0.023187574706823977 - 3 / 10\n",
      "      BLEU-4... 0.011820621501152343 - 4 / 10\n",
      "      ROUGE-1-fmeasure... 0.17030092522439033 - 5 / 10\n",
      "      ROUGE-2-fmeasure... 0.024364579257659554 - 6 / 10\n",
      "      ROUGE-L-fmeasure... 0.1278864343152024 - 7 / 10\n",
      "      ROUGE-1-recall... 0.20010863222693276 - 8 / 10\n",
      "      ROUGE-2-recall... 0.02882939738489885 - 9 / 10\n",
      "      ROUGE-L-recall... 0.1503124088613697 - 10 / 10\n",
      "\n",
      "Done: 15/20\n",
      "Starting with preprocessor CourpusPreprocessor(nothing)\n",
      "    Model: TextRank\n"
     ]
    },
    {
     "name": "stderr",
     "output_type": "stream",
     "text": [
      "100%|██████████| 11332/11332 [02:04<00:00, 91.36it/s] \n"
     ]
    },
    {
     "name": "stdout",
     "output_type": "stream",
     "text": [
      "      BLEU-1... 0.1183291279179867 - 1 / 10\n",
      "      BLEU-2... 0.041309305416122856 - 2 / 10\n",
      "      BLEU-3... 0.017233029358749624 - 3 / 10\n",
      "      BLEU-4... 0.008541085147977232 - 4 / 10\n",
      "      ROUGE-1-fmeasure... 0.1749891868903905 - 5 / 10\n",
      "      ROUGE-2-fmeasure... 0.024777554163219917 - 6 / 10\n",
      "      ROUGE-L-fmeasure... 0.12691535508665053 - 7 / 10\n",
      "      ROUGE-1-recall... 0.22900056012281328 - 8 / 10\n",
      "      ROUGE-2-recall... 0.032915738919335955 - 9 / 10\n",
      "      ROUGE-L-recall... 0.16612957796185182 - 10 / 10\n",
      "\n",
      "Done: 16/20\n",
      "    Model: LexRank\n"
     ]
    },
    {
     "name": "stderr",
     "output_type": "stream",
     "text": [
      "100%|██████████| 11332/11332 [01:53<00:00, 100.04it/s]\n"
     ]
    },
    {
     "name": "stdout",
     "output_type": "stream",
     "text": [
      "      BLEU-1... 0.13190202451151645 - 1 / 10\n",
      "      BLEU-2... 0.04551639021408223 - 2 / 10\n",
      "      BLEU-3... 0.019049838085488227 - 3 / 10\n",
      "      BLEU-4... 0.00930966524469624 - 4 / 10\n",
      "      ROUGE-1-fmeasure... 0.17133295852565505 - 5 / 10\n",
      "      ROUGE-2-fmeasure... 0.02340992135567297 - 6 / 10\n",
      "      ROUGE-L-fmeasure... 0.12538805889306803 - 7 / 10\n",
      "      ROUGE-1-recall... 0.19127778683648197 - 8 / 10\n",
      "      ROUGE-2-recall... 0.026266602597093347 - 9 / 10\n",
      "      ROUGE-L-recall... 0.1394771515949717 - 10 / 10\n",
      "\n",
      "Done: 17/20\n",
      "    Model: Lsa\n"
     ]
    },
    {
     "name": "stderr",
     "output_type": "stream",
     "text": [
      "100%|██████████| 11332/11332 [01:21<00:00, 139.09it/s]\n"
     ]
    },
    {
     "name": "stdout",
     "output_type": "stream",
     "text": [
      "      BLEU-1... 0.12036051155592326 - 1 / 10\n",
      "      BLEU-2... 0.035969610832210966 - 2 / 10\n",
      "      BLEU-3... 0.013778662027315135 - 3 / 10\n",
      "      BLEU-4... 0.006142563999480615 - 4 / 10\n",
      "      ROUGE-1-fmeasure... 0.15267969386617536 - 5 / 10\n",
      "      ROUGE-2-fmeasure... 0.016359332554800356 - 6 / 10\n",
      "      ROUGE-L-fmeasure... 0.11017996576851596 - 7 / 10\n",
      "      ROUGE-1-recall... 0.1603366004374084 - 8 / 10\n",
      "      ROUGE-2-recall... 0.017324588468086828 - 9 / 10\n",
      "      ROUGE-L-recall... 0.11556900257099736 - 10 / 10\n",
      "\n",
      "Done: 18/20\n",
      "    Model: Luhn\n"
     ]
    },
    {
     "name": "stderr",
     "output_type": "stream",
     "text": [
      "100%|██████████| 11332/11332 [00:43<00:00, 259.44it/s]\n"
     ]
    },
    {
     "name": "stdout",
     "output_type": "stream",
     "text": [
      "      BLEU-1... 0.12112938852227359 - 1 / 10\n",
      "      BLEU-2... 0.042327717238092644 - 2 / 10\n",
      "      BLEU-3... 0.017866493364940974 - 3 / 10\n",
      "      BLEU-4... 0.008896621397643781 - 4 / 10\n",
      "      ROUGE-1-fmeasure... 0.17573443884667378 - 5 / 10\n",
      "      ROUGE-2-fmeasure... 0.024960913672791008 - 6 / 10\n",
      "      ROUGE-L-fmeasure... 0.12622903652363654 - 7 / 10\n",
      "      ROUGE-1-recall... 0.22102281050076938 - 8 / 10\n",
      "      ROUGE-2-recall... 0.031862008359402325 - 9 / 10\n",
      "      ROUGE-L-recall... 0.15876822221719286 - 10 / 10\n",
      "\n",
      "Done: 19/20\n",
      "    Model: KL\n"
     ]
    },
    {
     "name": "stderr",
     "output_type": "stream",
     "text": [
      "100%|██████████| 11332/11332 [05:42<00:00, 33.06it/s] \n"
     ]
    },
    {
     "name": "stdout",
     "output_type": "stream",
     "text": [
      "      BLEU-1... 0.1298369096999311 - 1 / 10\n",
      "      BLEU-2... 0.046572576360524295 - 2 / 10\n",
      "      BLEU-3... 0.019946079180631883 - 3 / 10\n",
      "      BLEU-4... 0.009792576427229386 - 4 / 10\n",
      "      ROUGE-1-fmeasure... 0.17444191867975511 - 5 / 10\n",
      "      ROUGE-2-fmeasure... 0.02601001773707392 - 6 / 10\n",
      "      ROUGE-L-fmeasure... 0.13029782298150355 - 7 / 10\n",
      "      ROUGE-1-recall... 0.197104334621429 - 8 / 10\n",
      "      ROUGE-2-recall... 0.02948479834138394 - 9 / 10\n",
      "      ROUGE-L-recall... 0.1474663058305305 - 10 / 10\n",
      "\n",
      "Done: 20/20\n"
     ]
    },
    {
     "data": {
      "text/plain": "{'CourpusPreprocessor(strong)': {'TextRank': {'BLEU-1': 0.09680720881076871,\n   'BLEU-2': 0.03845039955288756,\n   'BLEU-3': 0.015479914618198075,\n   'BLEU-4': 0.006538746856412794,\n   'ROUGE-1-fmeasure': 0.13007354789886896,\n   'ROUGE-2-fmeasure': 0.0208842889198962,\n   'ROUGE-L-fmeasure': 0.10526554573311184,\n   'ROUGE-1-recall': 0.16140673311994297,\n   'ROUGE-2-recall': 0.02659906348806116,\n   'ROUGE-L-recall': 0.1306985926412772},\n  'LexRank': {'BLEU-1': 0.10481592471646123,\n   'BLEU-2': 0.039742980396033,\n   'BLEU-3': 0.015753875527716815,\n   'BLEU-4': 0.0065695067986235355,\n   'ROUGE-1-fmeasure': 0.11485304673723976,\n   'ROUGE-2-fmeasure': 0.01652320625328094,\n   'ROUGE-L-fmeasure': 0.09676674416946662,\n   'ROUGE-1-recall': 0.1174883190936935,\n   'ROUGE-2-recall': 0.016932073694746697,\n   'ROUGE-L-recall': 0.09850349639780925},\n  'Lsa': {'BLEU-1': 0.0803511984021305,\n   'BLEU-2': 0.028651601505534207,\n   'BLEU-3': 0.010071892381747327,\n   'BLEU-4': 0.0037947476650204777,\n   'ROUGE-1-fmeasure': 0.10476471593510817,\n   'ROUGE-2-fmeasure': 0.013693276602089124,\n   'ROUGE-L-fmeasure': 0.08563711713453832,\n   'ROUGE-1-recall': 0.12911907538120887,\n   'ROUGE-2-recall': 0.01728573506100953,\n   'ROUGE-L-recall': 0.10572051131163052},\n  'Luhn': {'BLEU-1': 0.0997217117353636,\n   'BLEU-2': 0.038942402099813006,\n   'BLEU-3': 0.01567320532235933,\n   'BLEU-4': 0.006576033162646193,\n   'ROUGE-1-fmeasure': 0.12341915771513523,\n   'ROUGE-2-fmeasure': 0.018879409441528702,\n   'ROUGE-L-fmeasure': 0.10148815146153342,\n   'ROUGE-1-recall': 0.14095261885928628,\n   'ROUGE-2-recall': 0.022271970583523995,\n   'ROUGE-L-recall': 0.11565436624043832},\n  'KL': {'BLEU-1': 0.09326026604450956,\n   'BLEU-2': 0.036853767867407,\n   'BLEU-3': 0.014707626668989598,\n   'BLEU-4': 0.006128522855635166,\n   'ROUGE-1-fmeasure': 0.1240853831154804,\n   'ROUGE-2-fmeasure': 0.01995849666908742,\n   'ROUGE-L-fmeasure': 0.101089304103051,\n   'ROUGE-1-recall': 0.15153945577721745,\n   'ROUGE-2-recall': 0.024687617587305297,\n   'ROUGE-L-recall': 0.1236166937011883}},\n 'CourpusPreprocessor(mid)': {'TextRank': {'BLEU-1': 0.13328274214271224,\n   'BLEU-2': 0.048656300728191486,\n   'BLEU-3': 0.021247500803551932,\n   'BLEU-4': 0.010825413380285477,\n   'ROUGE-1-fmeasure': 0.1737770173102477,\n   'ROUGE-2-fmeasure': 0.02392013734959183,\n   'ROUGE-L-fmeasure': 0.12700778032626237,\n   'ROUGE-1-recall': 0.23227950561239766,\n   'ROUGE-2-recall': 0.032485066915468486,\n   'ROUGE-L-recall': 0.16973331484158827},\n  'LexRank': {'BLEU-1': 0.15236908696095924,\n   'BLEU-2': 0.05438131186722801,\n   'BLEU-3': 0.023584992852121775,\n   'BLEU-4': 0.011834011833242775,\n   'ROUGE-1-fmeasure': 0.16992625547062468,\n   'ROUGE-2-fmeasure': 0.02231125079419743,\n   'ROUGE-L-fmeasure': 0.12551699124799914,\n   'ROUGE-1-recall': 0.19111664879870754,\n   'ROUGE-2-recall': 0.02541395858745056,\n   'ROUGE-L-recall': 0.14060801185951188},\n  'Lsa': {'BLEU-1': 0.14039013378059348,\n   'BLEU-2': 0.04377713219596531,\n   'BLEU-3': 0.017570133446291658,\n   'BLEU-4': 0.008184124459291519,\n   'ROUGE-1-fmeasure': 0.15006566579382366,\n   'ROUGE-2-fmeasure': 0.015368106633386376,\n   'ROUGE-L-fmeasure': 0.1095604887508266,\n   'ROUGE-1-recall': 0.15805597935565485,\n   'ROUGE-2-recall': 0.01632486938573582,\n   'ROUGE-L-recall': 0.11519459613044042},\n  'Luhn': {'BLEU-1': 0.13778710699619526,\n   'BLEU-2': 0.050415753104553325,\n   'BLEU-3': 0.0221507169304994,\n   'BLEU-4': 0.011323545356783584,\n   'ROUGE-1-fmeasure': 0.1748245382899577,\n   'ROUGE-2-fmeasure': 0.024308206532682262,\n   'ROUGE-L-fmeasure': 0.12669470576389383,\n   'ROUGE-1-recall': 0.22384845187665797,\n   'ROUGE-2-recall': 0.031609504519659284,\n   'ROUGE-L-recall': 0.16215418239666754},\n  'KL': {'BLEU-1': 0.14889495406736786,\n   'BLEU-2': 0.05524890100262196,\n   'BLEU-3': 0.024375345550722648,\n   'BLEU-4': 0.012407283399724722,\n   'ROUGE-1-fmeasure': 0.1732041720417614,\n   'ROUGE-2-fmeasure': 0.02486516104461113,\n   'ROUGE-L-fmeasure': 0.1304430548450467,\n   'ROUGE-1-recall': 0.19718918428801246,\n   'ROUGE-2-recall': 0.028462736257747704,\n   'ROUGE-L-recall': 0.14876444060374563}},\n 'CourpusPreprocessor(simple)': {'TextRank': {'BLEU-1': 0.12713525496893147,\n   'BLEU-2': 0.046807890995236065,\n   'BLEU-3': 0.020437044028562175,\n   'BLEU-4': 0.010410460704587378,\n   'ROUGE-1-fmeasure': 0.1718748901520785,\n   'ROUGE-2-fmeasure': 0.024049386921585918,\n   'ROUGE-L-fmeasure': 0.12429937512675897,\n   'ROUGE-1-recall': 0.24443967980315942,\n   'ROUGE-2-recall': 0.03491945725217724,\n   'ROUGE-L-recall': 0.17655753528189244},\n  'LexRank': {'BLEU-1': 0.1446459123885262,\n   'BLEU-2': 0.051181758416581576,\n   'BLEU-3': 0.02175756883922734,\n   'BLEU-4': 0.010758155732988413,\n   'ROUGE-1-fmeasure': 0.16775743787487649,\n   'ROUGE-2-fmeasure': 0.02155647351941953,\n   'ROUGE-L-fmeasure': 0.12319120247233245,\n   'ROUGE-1-recall': 0.1987319579968772,\n   'ROUGE-2-recall': 0.026145080225413786,\n   'ROUGE-L-recall': 0.14514186373492843},\n  'Lsa': {'BLEU-1': 0.13650967256818647,\n   'BLEU-2': 0.042758517501609104,\n   'BLEU-3': 0.01721009033327554,\n   'BLEU-4': 0.008113824126423549,\n   'ROUGE-1-fmeasure': 0.1480195374627037,\n   'ROUGE-2-fmeasure': 0.015266478905297552,\n   'ROUGE-L-fmeasure': 0.10780956572757572,\n   'ROUGE-1-recall': 0.15933852233660672,\n   'ROUGE-2-recall': 0.016605423235127027,\n   'ROUGE-L-recall': 0.11568566884625367},\n  'Luhn': {'BLEU-1': 0.13150909165976526,\n   'BLEU-2': 0.04849586120455783,\n   'BLEU-3': 0.021305438845896273,\n   'BLEU-4': 0.010893104475261386,\n   'ROUGE-1-fmeasure': 0.1730207103891796,\n   'ROUGE-2-fmeasure': 0.02424853559157407,\n   'ROUGE-L-fmeasure': 0.12427738350170178,\n   'ROUGE-1-recall': 0.23493828030994746,\n   'ROUGE-2-recall': 0.03367059997950754,\n   'ROUGE-L-recall': 0.16850376864381789},\n  'KL': {'BLEU-1': 0.14271443420241867,\n   'BLEU-2': 0.052853163379008236,\n   'BLEU-3': 0.023187574706823977,\n   'BLEU-4': 0.011820621501152343,\n   'ROUGE-1-fmeasure': 0.17030092522439033,\n   'ROUGE-2-fmeasure': 0.024364579257659554,\n   'ROUGE-L-fmeasure': 0.1278864343152024,\n   'ROUGE-1-recall': 0.20010863222693276,\n   'ROUGE-2-recall': 0.02882939738489885,\n   'ROUGE-L-recall': 0.1503124088613697}},\n 'CourpusPreprocessor(nothing)': {'TextRank': {'BLEU-1': 0.1183291279179867,\n   'BLEU-2': 0.041309305416122856,\n   'BLEU-3': 0.017233029358749624,\n   'BLEU-4': 0.008541085147977232,\n   'ROUGE-1-fmeasure': 0.1749891868903905,\n   'ROUGE-2-fmeasure': 0.024777554163219917,\n   'ROUGE-L-fmeasure': 0.12691535508665053,\n   'ROUGE-1-recall': 0.22900056012281328,\n   'ROUGE-2-recall': 0.032915738919335955,\n   'ROUGE-L-recall': 0.16612957796185182},\n  'LexRank': {'BLEU-1': 0.13190202451151645,\n   'BLEU-2': 0.04551639021408223,\n   'BLEU-3': 0.019049838085488227,\n   'BLEU-4': 0.00930966524469624,\n   'ROUGE-1-fmeasure': 0.17133295852565505,\n   'ROUGE-2-fmeasure': 0.02340992135567297,\n   'ROUGE-L-fmeasure': 0.12538805889306803,\n   'ROUGE-1-recall': 0.19127778683648197,\n   'ROUGE-2-recall': 0.026266602597093347,\n   'ROUGE-L-recall': 0.1394771515949717},\n  'Lsa': {'BLEU-1': 0.12036051155592326,\n   'BLEU-2': 0.035969610832210966,\n   'BLEU-3': 0.013778662027315135,\n   'BLEU-4': 0.006142563999480615,\n   'ROUGE-1-fmeasure': 0.15267969386617536,\n   'ROUGE-2-fmeasure': 0.016359332554800356,\n   'ROUGE-L-fmeasure': 0.11017996576851596,\n   'ROUGE-1-recall': 0.1603366004374084,\n   'ROUGE-2-recall': 0.017324588468086828,\n   'ROUGE-L-recall': 0.11556900257099736},\n  'Luhn': {'BLEU-1': 0.12112938852227359,\n   'BLEU-2': 0.042327717238092644,\n   'BLEU-3': 0.017866493364940974,\n   'BLEU-4': 0.008896621397643781,\n   'ROUGE-1-fmeasure': 0.17573443884667378,\n   'ROUGE-2-fmeasure': 0.024960913672791008,\n   'ROUGE-L-fmeasure': 0.12622903652363654,\n   'ROUGE-1-recall': 0.22102281050076938,\n   'ROUGE-2-recall': 0.031862008359402325,\n   'ROUGE-L-recall': 0.15876822221719286},\n  'KL': {'BLEU-1': 0.1298369096999311,\n   'BLEU-2': 0.046572576360524295,\n   'BLEU-3': 0.019946079180631883,\n   'BLEU-4': 0.009792576427229386,\n   'ROUGE-1-fmeasure': 0.17444191867975511,\n   'ROUGE-2-fmeasure': 0.02601001773707392,\n   'ROUGE-L-fmeasure': 0.13029782298150355,\n   'ROUGE-1-recall': 0.197104334621429,\n   'ROUGE-2-recall': 0.02948479834138394,\n   'ROUGE-L-recall': 0.1474663058305305}}}"
     },
     "execution_count": 26,
     "metadata": {},
     "output_type": "execute_result"
    }
   ],
   "source": [
    "models = [ TextRank, LexRank, Lsa, Luhn, KL]\n",
    "evaluate_models(\n",
    "    preprocessors,\n",
    "    models,\n",
    "    metrics,\n",
    "    orig_documents,\n",
    "    orig_summaries\n",
    ")"
   ],
   "metadata": {
    "collapsed": false,
    "pycharm": {
     "name": "#%%\n"
    }
   }
  },
  {
   "cell_type": "code",
   "execution_count": 28,
   "outputs": [
    {
     "name": "stdout",
     "output_type": "stream",
     "text": [
      "{'CourpusPreprocessor(mid)': {'KL': {'BLEU-1': 0.14889495406736786,\n",
      "                                     'BLEU-2': 0.05524890100262196,\n",
      "                                     'BLEU-3': 0.024375345550722648,\n",
      "                                     'BLEU-4': 0.012407283399724722,\n",
      "                                     'ROUGE-1-fmeasure': 0.1732041720417614,\n",
      "                                     'ROUGE-1-recall': 0.19718918428801246,\n",
      "                                     'ROUGE-2-fmeasure': 0.02486516104461113,\n",
      "                                     'ROUGE-2-recall': 0.028462736257747704,\n",
      "                                     'ROUGE-L-fmeasure': 0.1304430548450467,\n",
      "                                     'ROUGE-L-recall': 0.14876444060374563},\n",
      "                              'LexRank': {'BLEU-1': 0.15236908696095924,\n",
      "                                          'BLEU-2': 0.05438131186722801,\n",
      "                                          'BLEU-3': 0.023584992852121775,\n",
      "                                          'BLEU-4': 0.011834011833242775,\n",
      "                                          'ROUGE-1-fmeasure': 0.16992625547062468,\n",
      "                                          'ROUGE-1-recall': 0.19111664879870754,\n",
      "                                          'ROUGE-2-fmeasure': 0.02231125079419743,\n",
      "                                          'ROUGE-2-recall': 0.02541395858745056,\n",
      "                                          'ROUGE-L-fmeasure': 0.12551699124799914,\n",
      "                                          'ROUGE-L-recall': 0.14060801185951188},\n",
      "                              'Lsa': {'BLEU-1': 0.14039013378059348,\n",
      "                                      'BLEU-2': 0.04377713219596531,\n",
      "                                      'BLEU-3': 0.017570133446291658,\n",
      "                                      'BLEU-4': 0.008184124459291519,\n",
      "                                      'ROUGE-1-fmeasure': 0.15006566579382366,\n",
      "                                      'ROUGE-1-recall': 0.15805597935565485,\n",
      "                                      'ROUGE-2-fmeasure': 0.015368106633386376,\n",
      "                                      'ROUGE-2-recall': 0.01632486938573582,\n",
      "                                      'ROUGE-L-fmeasure': 0.1095604887508266,\n",
      "                                      'ROUGE-L-recall': 0.11519459613044042},\n",
      "                              'Luhn': {'BLEU-1': 0.13778710699619526,\n",
      "                                       'BLEU-2': 0.050415753104553325,\n",
      "                                       'BLEU-3': 0.0221507169304994,\n",
      "                                       'BLEU-4': 0.011323545356783584,\n",
      "                                       'ROUGE-1-fmeasure': 0.1748245382899577,\n",
      "                                       'ROUGE-1-recall': 0.22384845187665797,\n",
      "                                       'ROUGE-2-fmeasure': 0.024308206532682262,\n",
      "                                       'ROUGE-2-recall': 0.031609504519659284,\n",
      "                                       'ROUGE-L-fmeasure': 0.12669470576389383,\n",
      "                                       'ROUGE-L-recall': 0.16215418239666754},\n",
      "                              'TextRank': {'BLEU-1': 0.13328274214271224,\n",
      "                                           'BLEU-2': 0.048656300728191486,\n",
      "                                           'BLEU-3': 0.021247500803551932,\n",
      "                                           'BLEU-4': 0.010825413380285477,\n",
      "                                           'ROUGE-1-fmeasure': 0.1737770173102477,\n",
      "                                           'ROUGE-1-recall': 0.23227950561239766,\n",
      "                                           'ROUGE-2-fmeasure': 0.02392013734959183,\n",
      "                                           'ROUGE-2-recall': 0.032485066915468486,\n",
      "                                           'ROUGE-L-fmeasure': 0.12700778032626237,\n",
      "                                           'ROUGE-L-recall': 0.16973331484158827}},\n",
      " 'CourpusPreprocessor(nothing)': {'KL': {'BLEU-1': 0.1298369096999311,\n",
      "                                         'BLEU-2': 0.046572576360524295,\n",
      "                                         'BLEU-3': 0.019946079180631883,\n",
      "                                         'BLEU-4': 0.009792576427229386,\n",
      "                                         'ROUGE-1-fmeasure': 0.17444191867975511,\n",
      "                                         'ROUGE-1-recall': 0.197104334621429,\n",
      "                                         'ROUGE-2-fmeasure': 0.02601001773707392,\n",
      "                                         'ROUGE-2-recall': 0.02948479834138394,\n",
      "                                         'ROUGE-L-fmeasure': 0.13029782298150355,\n",
      "                                         'ROUGE-L-recall': 0.1474663058305305},\n",
      "                                  'LexRank': {'BLEU-1': 0.13190202451151645,\n",
      "                                              'BLEU-2': 0.04551639021408223,\n",
      "                                              'BLEU-3': 0.019049838085488227,\n",
      "                                              'BLEU-4': 0.00930966524469624,\n",
      "                                              'ROUGE-1-fmeasure': 0.17133295852565505,\n",
      "                                              'ROUGE-1-recall': 0.19127778683648197,\n",
      "                                              'ROUGE-2-fmeasure': 0.02340992135567297,\n",
      "                                              'ROUGE-2-recall': 0.026266602597093347,\n",
      "                                              'ROUGE-L-fmeasure': 0.12538805889306803,\n",
      "                                              'ROUGE-L-recall': 0.1394771515949717},\n",
      "                                  'Lsa': {'BLEU-1': 0.12036051155592326,\n",
      "                                          'BLEU-2': 0.035969610832210966,\n",
      "                                          'BLEU-3': 0.013778662027315135,\n",
      "                                          'BLEU-4': 0.006142563999480615,\n",
      "                                          'ROUGE-1-fmeasure': 0.15267969386617536,\n",
      "                                          'ROUGE-1-recall': 0.1603366004374084,\n",
      "                                          'ROUGE-2-fmeasure': 0.016359332554800356,\n",
      "                                          'ROUGE-2-recall': 0.017324588468086828,\n",
      "                                          'ROUGE-L-fmeasure': 0.11017996576851596,\n",
      "                                          'ROUGE-L-recall': 0.11556900257099736},\n",
      "                                  'Luhn': {'BLEU-1': 0.12112938852227359,\n",
      "                                           'BLEU-2': 0.042327717238092644,\n",
      "                                           'BLEU-3': 0.017866493364940974,\n",
      "                                           'BLEU-4': 0.008896621397643781,\n",
      "                                           'ROUGE-1-fmeasure': 0.17573443884667378,\n",
      "                                           'ROUGE-1-recall': 0.22102281050076938,\n",
      "                                           'ROUGE-2-fmeasure': 0.024960913672791008,\n",
      "                                           'ROUGE-2-recall': 0.031862008359402325,\n",
      "                                           'ROUGE-L-fmeasure': 0.12622903652363654,\n",
      "                                           'ROUGE-L-recall': 0.15876822221719286},\n",
      "                                  'TextRank': {'BLEU-1': 0.1183291279179867,\n",
      "                                               'BLEU-2': 0.041309305416122856,\n",
      "                                               'BLEU-3': 0.017233029358749624,\n",
      "                                               'BLEU-4': 0.008541085147977232,\n",
      "                                               'ROUGE-1-fmeasure': 0.1749891868903905,\n",
      "                                               'ROUGE-1-recall': 0.22900056012281328,\n",
      "                                               'ROUGE-2-fmeasure': 0.024777554163219917,\n",
      "                                               'ROUGE-2-recall': 0.032915738919335955,\n",
      "                                               'ROUGE-L-fmeasure': 0.12691535508665053,\n",
      "                                               'ROUGE-L-recall': 0.16612957796185182}},\n",
      " 'CourpusPreprocessor(simple)': {'KL': {'BLEU-1': 0.14271443420241867,\n",
      "                                        'BLEU-2': 0.052853163379008236,\n",
      "                                        'BLEU-3': 0.023187574706823977,\n",
      "                                        'BLEU-4': 0.011820621501152343,\n",
      "                                        'ROUGE-1-fmeasure': 0.17030092522439033,\n",
      "                                        'ROUGE-1-recall': 0.20010863222693276,\n",
      "                                        'ROUGE-2-fmeasure': 0.024364579257659554,\n",
      "                                        'ROUGE-2-recall': 0.02882939738489885,\n",
      "                                        'ROUGE-L-fmeasure': 0.1278864343152024,\n",
      "                                        'ROUGE-L-recall': 0.1503124088613697},\n",
      "                                 'LexRank': {'BLEU-1': 0.1446459123885262,\n",
      "                                             'BLEU-2': 0.051181758416581576,\n",
      "                                             'BLEU-3': 0.02175756883922734,\n",
      "                                             'BLEU-4': 0.010758155732988413,\n",
      "                                             'ROUGE-1-fmeasure': 0.16775743787487649,\n",
      "                                             'ROUGE-1-recall': 0.1987319579968772,\n",
      "                                             'ROUGE-2-fmeasure': 0.02155647351941953,\n",
      "                                             'ROUGE-2-recall': 0.026145080225413786,\n",
      "                                             'ROUGE-L-fmeasure': 0.12319120247233245,\n",
      "                                             'ROUGE-L-recall': 0.14514186373492843},\n",
      "                                 'Lsa': {'BLEU-1': 0.13650967256818647,\n",
      "                                         'BLEU-2': 0.042758517501609104,\n",
      "                                         'BLEU-3': 0.01721009033327554,\n",
      "                                         'BLEU-4': 0.008113824126423549,\n",
      "                                         'ROUGE-1-fmeasure': 0.1480195374627037,\n",
      "                                         'ROUGE-1-recall': 0.15933852233660672,\n",
      "                                         'ROUGE-2-fmeasure': 0.015266478905297552,\n",
      "                                         'ROUGE-2-recall': 0.016605423235127027,\n",
      "                                         'ROUGE-L-fmeasure': 0.10780956572757572,\n",
      "                                         'ROUGE-L-recall': 0.11568566884625367},\n",
      "                                 'Luhn': {'BLEU-1': 0.13150909165976526,\n",
      "                                          'BLEU-2': 0.04849586120455783,\n",
      "                                          'BLEU-3': 0.021305438845896273,\n",
      "                                          'BLEU-4': 0.010893104475261386,\n",
      "                                          'ROUGE-1-fmeasure': 0.1730207103891796,\n",
      "                                          'ROUGE-1-recall': 0.23493828030994746,\n",
      "                                          'ROUGE-2-fmeasure': 0.02424853559157407,\n",
      "                                          'ROUGE-2-recall': 0.03367059997950754,\n",
      "                                          'ROUGE-L-fmeasure': 0.12427738350170178,\n",
      "                                          'ROUGE-L-recall': 0.16850376864381789},\n",
      "                                 'TextRank': {'BLEU-1': 0.12713525496893147,\n",
      "                                              'BLEU-2': 0.046807890995236065,\n",
      "                                              'BLEU-3': 0.020437044028562175,\n",
      "                                              'BLEU-4': 0.010410460704587378,\n",
      "                                              'ROUGE-1-fmeasure': 0.1718748901520785,\n",
      "                                              'ROUGE-1-recall': 0.24443967980315942,\n",
      "                                              'ROUGE-2-fmeasure': 0.024049386921585918,\n",
      "                                              'ROUGE-2-recall': 0.03491945725217724,\n",
      "                                              'ROUGE-L-fmeasure': 0.12429937512675897,\n",
      "                                              'ROUGE-L-recall': 0.17655753528189244}},\n",
      " 'CourpusPreprocessor(strong)': {'KL': {'BLEU-1': 0.09326026604450956,\n",
      "                                        'BLEU-2': 0.036853767867407,\n",
      "                                        'BLEU-3': 0.014707626668989598,\n",
      "                                        'BLEU-4': 0.006128522855635166,\n",
      "                                        'ROUGE-1-fmeasure': 0.1240853831154804,\n",
      "                                        'ROUGE-1-recall': 0.15153945577721745,\n",
      "                                        'ROUGE-2-fmeasure': 0.01995849666908742,\n",
      "                                        'ROUGE-2-recall': 0.024687617587305297,\n",
      "                                        'ROUGE-L-fmeasure': 0.101089304103051,\n",
      "                                        'ROUGE-L-recall': 0.1236166937011883},\n",
      "                                 'LexRank': {'BLEU-1': 0.10481592471646123,\n",
      "                                             'BLEU-2': 0.039742980396033,\n",
      "                                             'BLEU-3': 0.015753875527716815,\n",
      "                                             'BLEU-4': 0.0065695067986235355,\n",
      "                                             'ROUGE-1-fmeasure': 0.11485304673723976,\n",
      "                                             'ROUGE-1-recall': 0.1174883190936935,\n",
      "                                             'ROUGE-2-fmeasure': 0.01652320625328094,\n",
      "                                             'ROUGE-2-recall': 0.016932073694746697,\n",
      "                                             'ROUGE-L-fmeasure': 0.09676674416946662,\n",
      "                                             'ROUGE-L-recall': 0.09850349639780925},\n",
      "                                 'Lsa': {'BLEU-1': 0.0803511984021305,\n",
      "                                         'BLEU-2': 0.028651601505534207,\n",
      "                                         'BLEU-3': 0.010071892381747327,\n",
      "                                         'BLEU-4': 0.0037947476650204777,\n",
      "                                         'ROUGE-1-fmeasure': 0.10476471593510817,\n",
      "                                         'ROUGE-1-recall': 0.12911907538120887,\n",
      "                                         'ROUGE-2-fmeasure': 0.013693276602089124,\n",
      "                                         'ROUGE-2-recall': 0.01728573506100953,\n",
      "                                         'ROUGE-L-fmeasure': 0.08563711713453832,\n",
      "                                         'ROUGE-L-recall': 0.10572051131163052},\n",
      "                                 'Luhn': {'BLEU-1': 0.0997217117353636,\n",
      "                                          'BLEU-2': 0.038942402099813006,\n",
      "                                          'BLEU-3': 0.01567320532235933,\n",
      "                                          'BLEU-4': 0.006576033162646193,\n",
      "                                          'ROUGE-1-fmeasure': 0.12341915771513523,\n",
      "                                          'ROUGE-1-recall': 0.14095261885928628,\n",
      "                                          'ROUGE-2-fmeasure': 0.018879409441528702,\n",
      "                                          'ROUGE-2-recall': 0.022271970583523995,\n",
      "                                          'ROUGE-L-fmeasure': 0.10148815146153342,\n",
      "                                          'ROUGE-L-recall': 0.11565436624043832},\n",
      "                                 'TextRank': {'BLEU-1': 0.09680720881076871,\n",
      "                                              'BLEU-2': 0.03845039955288756,\n",
      "                                              'BLEU-3': 0.015479914618198075,\n",
      "                                              'BLEU-4': 0.006538746856412794,\n",
      "                                              'ROUGE-1-fmeasure': 0.13007354789886896,\n",
      "                                              'ROUGE-1-recall': 0.16140673311994297,\n",
      "                                              'ROUGE-2-fmeasure': 0.0208842889198962,\n",
      "                                              'ROUGE-2-recall': 0.02659906348806116,\n",
      "                                              'ROUGE-L-fmeasure': 0.10526554573311184,\n",
      "                                              'ROUGE-L-recall': 0.1306985926412772}}}\n"
     ]
    }
   ],
   "source": [
    "from pprint import pprint\n",
    "import json\n",
    "pprint(result)\n",
    "with open(\"bench_results.json\", 'w') as f:\n",
    "    json.dump(result, f, indent=4)"
   ],
   "metadata": {
    "collapsed": false,
    "pycharm": {
     "name": "#%%\n"
    }
   }
  },
  {
   "cell_type": "code",
   "execution_count": 13,
   "outputs": [
    {
     "name": "stderr",
     "output_type": "stream",
     "text": [
      "100%|██████████| 2/2 [00:00<00:00, 103.39it/s]"
     ]
    },
    {
     "name": "stdout",
     "output_type": "stream",
     "text": [
      "12 8\n",
      "==============================\n",
      "the 37yearold has scored 230 runs in four firstclass games this season at an average of 57.50.\n",
      "losing adam is naturally a blow as he contributes significantly to everything we do director of cricket angus fraser said.\n"
     ]
    },
    {
     "name": "stderr",
     "output_type": "stream",
     "text": [
      "\n"
     ]
    }
   ],
   "source": [
    "# small_ds = [orig_documents[0], orig_documents[1]]\n",
    "# small_ds_prep = preprocessor_simple.transform(small_ds)\n",
    "# # print(small_ds_prep)\n",
    "#\n",
    "# # bads = string.punctuation.replace('.', '')\n",
    "# # print(bads)\n",
    "# #\n",
    "# # tmp = remove_symbols(bads)(orig_documents[1])\n",
    "# MyTextRank.fit(small_ds_prep)\n",
    "# res = MyTextRank.predict(small_ds_prep)\n",
    "# # print(tmp)\n",
    "# # print(\"=\" * 30)\n",
    "# # print(small_ds_prep[1])\n",
    "# # print(\"=\" * 30)\n",
    "# print(len(orig_documents[1].split(\".\")), len(nltk.sent_tokenize(orig_documents[1])))\n",
    "# print(\"=\" * 30)\n",
    "# print(res[1])"
   ],
   "metadata": {
    "collapsed": false,
    "pycharm": {
     "name": "#%%\n"
    }
   }
  },
  {
   "cell_type": "code",
   "execution_count": null,
   "outputs": [],
   "source": [],
   "metadata": {
    "collapsed": false,
    "pycharm": {
     "name": "#%%\n"
    }
   }
  }
 ],
 "metadata": {
  "kernelspec": {
   "display_name": "Python 3",
   "language": "python",
   "name": "python3"
  },
  "language_info": {
   "codemirror_mode": {
    "name": "ipython",
    "version": 2
   },
   "file_extension": ".py",
   "mimetype": "text/x-python",
   "name": "python",
   "nbconvert_exporter": "python",
   "pygments_lexer": "ipython2",
   "version": "2.7.6"
  }
 },
 "nbformat": 4,
 "nbformat_minor": 0
}