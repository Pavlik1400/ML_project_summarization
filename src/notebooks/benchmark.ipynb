{
 "cells": [
  {
   "cell_type": "markdown",
   "source": [
    "# Benchmark classical approaches"
   ],
   "metadata": {
    "collapsed": false,
    "pycharm": {
     "name": "#%% md\n"
    }
   }
  },
  {
   "cell_type": "code",
   "execution_count": 1,
   "metadata": {
    "collapsed": true,
    "pycharm": {
     "name": "#%%\n"
    }
   },
   "outputs": [
    {
     "name": "stderr",
     "output_type": "stream",
     "text": [
      "[nltk_data] Downloading package punkt to /home/pasha/nltk_data...\n",
      "[nltk_data]   Package punkt is already up-to-date!\n",
      "[nltk_data] Downloading package stopwords to /home/pasha/nltk_data...\n",
      "[nltk_data]   Package stopwords is already up-to-date!\n",
      "[nltk_data] Downloading package wordnet to /home/pasha/nltk_data...\n",
      "[nltk_data]   Package wordnet is already up-to-date!\n",
      "[nltk_data] Downloading package omw-1.4 to /home/pasha/nltk_data...\n",
      "[nltk_data]   Package omw-1.4 is already up-to-date!\n",
      "2022-05-31 08:45:48.571474: I tensorflow/stream_executor/platform/default/dso_loader.cc:49] Successfully opened dynamic library libcudart.so.10.1\n"
     ]
    },
    {
     "name": "stdout",
     "output_type": "stream",
     "text": [
      "DEBUG: Loaded GloVe embedings from /home/pasha/Documents/ML/ML_project_summarization/src/embedings/../../data/glove/glove.6B.100d.txt\n"
     ]
    }
   ],
   "source": [
    "import os\n",
    "import sys\n",
    "import nltk\n",
    "from tqdm import trange\n",
    "nltk.download('punkt')\n",
    "nltk.download('stopwords')\n",
    "from nltk.corpus import stopwords\n",
    "sys.path.append(os.path.join(os.getcwd(), \"..\", \"..\"))\n",
    "from src.preprocessing.corpus_preprocessor import CorpusPreprocessor\n",
    "from src.preprocessing.functions import *\n",
    "from src.preprocessing.consts import EMAIL_REGEX\n",
    "from src.ds_loaders.xsum import XSumLoader\n",
    "from src.ds_loaders.cnn_daily import CNNDailyLoader\n",
    "from src.metrics import BLEU, ROUGE\n",
    "from src.metrics.GloVeCosineSimilarity import GloveCosineSimilarity\n",
    "from src.model import *\n",
    "import math"
   ]
  },
  {
   "cell_type": "markdown",
   "source": [
    "## Load dataset"
   ],
   "metadata": {
    "collapsed": false,
    "pycharm": {
     "name": "#%% md\n"
    }
   }
  },
  {
   "cell_type": "code",
   "execution_count": 2,
   "outputs": [
    {
     "name": "stderr",
     "output_type": "stream",
     "text": [
      "Reusing dataset cnn_dailymail (/home/pasha/.cache/huggingface/datasets/ccdv___cnn_dailymail/3.0.0/3.0.0/0107f7388b5c6fae455a5661bcd134fc22da53ea75852027040d8d1e997f101f)\n"
     ]
    },
    {
     "data": {
      "text/plain": "  0%|          | 0/3 [00:00<?, ?it/s]",
      "application/vnd.jupyter.widget-view+json": {
       "version_major": 2,
       "version_minor": 0,
       "model_id": "0ea86f253386486b83c53d60a5ad5727"
      }
     },
     "metadata": {},
     "output_type": "display_data"
    }
   ],
   "source": [
    "# loader = XSumLoader()\n",
    "loader = CNNDailyLoader()\n",
    "loader.load()"
   ],
   "metadata": {
    "collapsed": false,
    "pycharm": {
     "name": "#%%\n"
    }
   }
  },
  {
   "cell_type": "code",
   "execution_count": 5,
   "outputs": [
    {
     "name": "stdout",
     "output_type": "stream",
     "text": [
      "500\n"
     ]
    }
   ],
   "source": [
    "# orig_documents, orig_summaries = loader.X_val, loader.y_val\n",
    "CLIP = 500\n",
    "orig_documents, orig_summaries = loader.X_test[-CLIP:], loader.y_test[-CLIP:]\n",
    "print(len(orig_summaries))"
   ],
   "metadata": {
    "collapsed": false,
    "pycharm": {
     "name": "#%%\n"
    }
   }
  },
  {
   "cell_type": "code",
   "execution_count": 6,
   "outputs": [
    {
     "name": "stderr",
     "output_type": "stream",
     "text": [
      "100%|██████████| 500/500 [00:00<00:00, 8284.72it/s]"
     ]
    },
    {
     "name": "stdout",
     "output_type": "stream",
     "text": [
      "Average number of sentences: 3.94\n",
      "Choosing number of sentences: 4\n"
     ]
    },
    {
     "name": "stderr",
     "output_type": "stream",
     "text": [
      "\n"
     ]
    }
   ],
   "source": [
    "n_sentences = 0\n",
    "for y in trange(len(orig_summaries)):\n",
    "    n_sentences += len(nltk.sent_tokenize(orig_summaries[y]))\n",
    "n_sentences /= len(orig_summaries)\n",
    "print(f\"Average number of sentences: {n_sentences}\")\n",
    "n_sen = math.ceil(n_sentences)\n",
    "print(f\"Choosing number of sentences: {n_sen}\")"
   ],
   "metadata": {
    "collapsed": false,
    "pycharm": {
     "name": "#%%\n"
    }
   }
  },
  {
   "cell_type": "markdown",
   "source": [
    "## Preprocess dataset"
   ],
   "metadata": {
    "collapsed": false,
    "pycharm": {
     "name": "#%% md\n"
    }
   }
  },
  {
   "cell_type": "code",
   "execution_count": 7,
   "outputs": [],
   "source": [
    "# preprocessor = CorpusPreprocessor(verbose=False).\\\n",
    "#     add(to_lower()).\\\n",
    "#     add(expand_contractions()).\\\n",
    "#     add(replace_by_regex([(EMAIL_REGEX, \"EMAIL\")])).\\\n",
    "#     add(remove_by_regex([r\"\\d\"])).\\\n",
    "#     add(remove_symbols(string.punctuation.replace('.', ''))).\\\n",
    "#     add(lemmatize())\n",
    "#     # add(remove_words(set(stopwords.words('english'))))\n"
   ],
   "metadata": {
    "collapsed": false,
    "pycharm": {
     "name": "#%%\n"
    }
   }
  },
  {
   "cell_type": "code",
   "execution_count": 8,
   "outputs": [],
   "source": [
    "# documents = []\n",
    "# summaries = []\n",
    "# for idx in trange(len(orig_documents)):\n",
    "#     doc = orig_documents[idx]\n",
    "#     summ = orig_summaries[idx]\n",
    "#     if len(doc) == 0 or len(summ) == 0:\n",
    "#         continue\n",
    "#     documents.append(preprocessor.transform(doc))\n",
    "#     summaries.append(preprocessor.transform(summ))"
   ],
   "metadata": {
    "collapsed": false,
    "pycharm": {
     "name": "#%%\n"
    }
   }
  },
  {
   "cell_type": "markdown",
   "source": [
    "## Create models and metrics and preprocessors"
   ],
   "metadata": {
    "collapsed": false,
    "pycharm": {
     "name": "#%% md\n"
    }
   }
  },
  {
   "cell_type": "code",
   "execution_count": 9,
   "outputs": [
    {
     "name": "stdout",
     "output_type": "stream",
     "text": [
      "DEBUG: Loaded GloVe embedings from /home/pasha/Documents/ML/ML_project_summarization/src/embedings/../../data/glove/glove.6B.100d.txt\n"
     ]
    }
   ],
   "source": [
    "# 1. models\n",
    "summary_size = n_sen\n",
    "TextRank = TextRankModel(summary_size)\n",
    "LexRank = LexRankModel(summary_size)\n",
    "Lsa = LsaModel(summary_size)\n",
    "Luhn = LuhnModel(summary_size)\n",
    "KL = KLModel(summary_size)\n",
    "MyTextRank = MyTextRankModel(summary_size)\n",
    "\n",
    "models = [ TextRank, LexRank, Lsa, Luhn, KL, MyTextRank ]"
   ],
   "metadata": {
    "collapsed": false,
    "pycharm": {
     "name": "#%%\n"
    }
   }
  },
  {
   "cell_type": "code",
   "execution_count": 10,
   "outputs": [
    {
     "name": "stdout",
     "output_type": "stream",
     "text": [
      "100\n"
     ]
    }
   ],
   "source": [
    "CLIP = 100\n",
    "orig_documents, orig_summaries = loader.X_test[-CLIP:], loader.y_test[-CLIP:]\n",
    "print(len(orig_summaries))"
   ],
   "metadata": {
    "collapsed": false,
    "pycharm": {
     "name": "#%%\n"
    }
   }
  },
  {
   "cell_type": "code",
   "execution_count": 26,
   "outputs": [
    {
     "name": "stdout",
     "output_type": "stream",
     "text": [
      "92\n",
      "Chelsea beat Stoke 2-1 in Premier League at Stamford Bridge on Saturday .\n",
      "Cesc Fabregas' nose was left bloodied after tussle with Charlie Adam .\n",
      "Midfielder showed off injury as he posted picture to Instagram after game .\n",
      "Fabregas joked that he might finally be able to get his nose fixed .\n"
     ]
    },
    {
     "name": "stderr",
     "output_type": "stream",
     "text": [
      "100%|██████████| 100/100 [00:02<00:00, 39.50it/s]"
     ]
    },
    {
     "name": "stdout",
     "output_type": "stream",
     "text": [
      "Cesc Fabregas showed off the result of a nasty-looking clash with Charlie Adam's arm during Chelsea's victory against Stoke City at Stamford Bridge on Saturday. The former Barcelona midfielder was left bloodied after being caught by a flailing arm following a tussle with Adam, the scorer of a 66-yard wonder goal. Spain international Fabregas also took a whack on his leg during the clash on Saturday . He avoided having an operation on the injury then, but it seems that Fabregas might be happy to have corrective surgery this time.\n"
     ]
    },
    {
     "name": "stderr",
     "output_type": "stream",
     "text": [
      "\n"
     ]
    }
   ],
   "source": [
    "for i in range(len(orig_summaries)):\n",
    "    if \"nose\" in orig_summaries[i] and \"bloodied\" in orig_summaries[i]:\n",
    "        print(i)\n",
    "\n",
    "print(orig_summaries[92])\n",
    "i = 92\n",
    "doc = preprocessor_no.transform(orig_documents)\n",
    "LexRank.fit(doc)\n",
    "print(LexRank.predict(doc)[92])\n"
   ],
   "metadata": {
    "collapsed": false,
    "pycharm": {
     "name": "#%%\n"
    }
   }
  },
  {
   "cell_type": "code",
   "execution_count": 103,
   "outputs": [
    {
     "name": "stdout",
     "output_type": "stream",
     "text": [
      "DEBUG: Loaded GloVe embedings from /home/pasha/Documents/ML/ML_project_summarization/src/embedings/../../data/glove/glove.6B.100d.txt\n",
      "DEBUG: Loaded GloVe embedings from /home/pasha/Documents/ML/ML_project_summarization/src/embedings/../../data/glove/glove.6B.100d.txt\n"
     ]
    }
   ],
   "source": [
    "# 2. metrics\n",
    "bleu1 = BLEU(1)\n",
    "bleu2 = BLEU(2)\n",
    "bleu3 = BLEU(3)\n",
    "bleu4 = BLEU(4)\n",
    "\n",
    "rouge1_f1 = ROUGE(\"rouge1\", \"fmeasure\")\n",
    "rouge2_f1 = ROUGE(\"rouge2\", \"fmeasure\")\n",
    "rougeL_f1 = ROUGE(\"rougeL\", \"fmeasure\")\n",
    "rouge1_r = ROUGE(\"rouge1\", \"recall\")\n",
    "rouge2_r = ROUGE(\"rouge2\", \"recall\")\n",
    "rougeL_r = ROUGE(\"rougeL\", \"recall\")\n",
    "glove_cosine = GloveCosineSimilarity()\n",
    "\n",
    "metrics = [ bleu1, bleu2, bleu3, bleu4,\n",
    "            rouge1_f1, rouge2_f1, rougeL_f1, rouge1_r, rouge2_r, rougeL_r ]"
   ],
   "metadata": {
    "collapsed": false,
    "pycharm": {
     "name": "#%%\n"
    }
   }
  },
  {
   "cell_type": "code",
   "execution_count": 18,
   "outputs": [],
   "source": [
    "# 3. preprocessors\n",
    "preprocessor_strong = CorpusPreprocessor(name=\"strong\").\\\n",
    "    add(to_lower()).\\\n",
    "    add(expand_contractions()).\\\n",
    "    add(replace_by_regex([(EMAIL_REGEX, \"EMAIL\")])).\\\n",
    "    add(remove_by_regex([r\"\\d\"])).\\\n",
    "    add(remove_symbols(string.punctuation.replace('.', ''))).\\\n",
    "    add(lemmatize()).\\\n",
    "    add(remove_words(set(stopwords.words('english'))))\n",
    "\n",
    "preprocessor_mid = CorpusPreprocessor(name=\"mid\").\\\n",
    "    add(to_lower()).\\\n",
    "    add(expand_contractions()).\\\n",
    "    add(replace_by_regex([(EMAIL_REGEX, \"EMAIL\")])).\\\n",
    "    add(remove_by_regex([r\"\\d\"])).\\\n",
    "    add(remove_symbols(string.punctuation.replace('.', '')))\n",
    "\n",
    "preprocessor_simple = CorpusPreprocessor(name=\"simple\").\\\n",
    "    add(to_lower()).\\\n",
    "    add(replace_by_regex([(EMAIL_REGEX, \"EMAIL\")])).\\\n",
    "    add(remove_symbols(string.punctuation.replace('.', '')))\n",
    "\n",
    "preprocessor_no = CorpusPreprocessor(name=\"nothing\")\n",
    "preprocessors = [preprocessor_strong, preprocessor_mid, preprocessor_simple, preprocessor_no]"
   ],
   "metadata": {
    "collapsed": false,
    "pycharm": {
     "name": "#%%\n"
    }
   }
  },
  {
   "cell_type": "code",
   "execution_count": 105,
   "outputs": [],
   "source": [
    "result = {}\n",
    "def evaluate_models(preprocessors,\n",
    "                    models,\n",
    "                    metrics,\n",
    "                    documents,\n",
    "                    summaries):\n",
    "    n_jobs = len(models) * len(preprocessors)\n",
    "    n_done = 0\n",
    "    for prep in preprocessors:\n",
    "        result[str(prep)] = {}\n",
    "        print(f\"Starting with preprocessor {prep}\")\n",
    "        prep_docs = prep.transform(documents)\n",
    "        prep_sum = prep.transform(summaries)\n",
    "        for model in models:\n",
    "            result[str(prep)][str(model)] = {}\n",
    "            print(f\"    Model: {model}\")\n",
    "            model.fit(prep_docs)\n",
    "            pred = model.predict(prep_docs)\n",
    "            # print(f\"        \", end=\"\")\n",
    "            for m_idx, metric in enumerate(metrics):\n",
    "                print(f\"      {metric}... \", end=\"\")\n",
    "                metric.reset_state()\n",
    "                metric.update_state(pred, prep_sum)\n",
    "                value = metric.result()\n",
    "                result[str(prep)][str(model)][str(metric)] = value\n",
    "                print(f\"{value} - {m_idx+1} / {len(metrics)}\")\n",
    "            print()\n",
    "            n_done += 1\n",
    "            print(f\"Done: {n_done}/{n_jobs}\")\n",
    "    return result"
   ],
   "metadata": {
    "collapsed": false,
    "pycharm": {
     "name": "#%%\n"
    }
   }
  },
  {
   "cell_type": "code",
   "execution_count": 106,
   "outputs": [
    {
     "name": "stdout",
     "output_type": "stream",
     "text": [
      "Starting with preprocessor CourpusPreprocessor(strong)\n",
      "    Model: TextRank\n"
     ]
    },
    {
     "name": "stderr",
     "output_type": "stream",
     "text": [
      "100%|██████████| 500/500 [00:07<00:00, 69.56it/s]\n"
     ]
    },
    {
     "name": "stdout",
     "output_type": "stream",
     "text": [
      "      BLEU-1... 0.20843275625729807 - 1 / 10\n",
      "      BLEU-2... 0.13078957308579928 - 2 / 10\n",
      "      BLEU-3... 0.08758466538868595 - 3 / 10\n",
      "      BLEU-4... 0.06302689979364826 - 4 / 10\n",
      "      ROUGE-1-fmeasure... 0.2802082008853045 - 5 / 10\n",
      "      ROUGE-2-fmeasure... 0.11552971434225888 - 6 / 10\n",
      "      ROUGE-L-fmeasure... 0.20241138735028996 - 7 / 10\n",
      "      ROUGE-1-recall... 0.4753477954330174 - 8 / 10\n",
      "      ROUGE-2-recall... 0.1986445181977855 - 9 / 10\n",
      "      ROUGE-L-recall... 0.3441145438091803 - 10 / 10\n",
      "\n",
      "Done: 1/20\n",
      "    Model: LexRank\n"
     ]
    },
    {
     "name": "stderr",
     "output_type": "stream",
     "text": [
      "100%|██████████| 500/500 [00:07<00:00, 65.67it/s]\n"
     ]
    },
    {
     "name": "stdout",
     "output_type": "stream",
     "text": [
      "      BLEU-1... 0.2591295477728664 - 1 / 10\n",
      "      BLEU-2... 0.15825142289863528 - 2 / 10\n",
      "      BLEU-3... 0.10309360206906006 - 3 / 10\n",
      "      BLEU-4... 0.07188049423948577 - 4 / 10\n",
      "      ROUGE-1-fmeasure... 0.3103108999394126 - 5 / 10\n",
      "      ROUGE-2-fmeasure... 0.12033220121757199 - 6 / 10\n",
      "      ROUGE-L-fmeasure... 0.214927126176479 - 7 / 10\n",
      "      ROUGE-1-recall... 0.439371647786182 - 8 / 10\n",
      "      ROUGE-2-recall... 0.17480503305651524 - 9 / 10\n",
      "      ROUGE-L-recall... 0.30650915367840303 - 10 / 10\n",
      "\n",
      "Done: 2/20\n",
      "    Model: Lsa\n"
     ]
    },
    {
     "name": "stderr",
     "output_type": "stream",
     "text": [
      "100%|██████████| 500/500 [00:06<00:00, 73.94it/s]\n"
     ]
    },
    {
     "name": "stdout",
     "output_type": "stream",
     "text": [
      "      BLEU-1... 0.191573283180524 - 1 / 10\n",
      "      BLEU-2... 0.11477275996718318 - 2 / 10\n",
      "      BLEU-3... 0.07438709094008615 - 3 / 10\n",
      "      BLEU-4... 0.05222961275109926 - 4 / 10\n",
      "      ROUGE-1-fmeasure... 0.26566891359235045 - 5 / 10\n",
      "      ROUGE-2-fmeasure... 0.09994196328834262 - 6 / 10\n",
      "      ROUGE-L-fmeasure... 0.17852906243672817 - 7 / 10\n",
      "      ROUGE-1-recall... 0.44834219087213945 - 8 / 10\n",
      "      ROUGE-2-recall... 0.17134479949760914 - 9 / 10\n",
      "      ROUGE-L-recall... 0.3030858858704796 - 10 / 10\n",
      "\n",
      "Done: 3/20\n",
      "    Model: Luhn\n"
     ]
    },
    {
     "name": "stderr",
     "output_type": "stream",
     "text": [
      "100%|██████████| 500/500 [00:02<00:00, 182.47it/s]\n"
     ]
    },
    {
     "name": "stdout",
     "output_type": "stream",
     "text": [
      "      BLEU-1... 0.22700729927007302 - 1 / 10\n",
      "      BLEU-2... 0.14343332849387472 - 2 / 10\n",
      "      BLEU-3... 0.09723026074061175 - 3 / 10\n",
      "      BLEU-4... 0.0702808998913148 - 4 / 10\n",
      "      ROUGE-1-fmeasure... 0.29187752601632344 - 5 / 10\n",
      "      ROUGE-2-fmeasure... 0.12310496082754012 - 6 / 10\n",
      "      ROUGE-L-fmeasure... 0.21013761383642615 - 7 / 10\n",
      "      ROUGE-1-recall... 0.46810006591900877 - 8 / 10\n",
      "      ROUGE-2-recall... 0.19791468920280103 - 9 / 10\n",
      "      ROUGE-L-recall... 0.3379418295486333 - 10 / 10\n",
      "\n",
      "Done: 4/20\n",
      "    Model: KL\n"
     ]
    },
    {
     "name": "stderr",
     "output_type": "stream",
     "text": [
      "100%|██████████| 500/500 [00:28<00:00, 17.81it/s]\n"
     ]
    },
    {
     "name": "stdout",
     "output_type": "stream",
     "text": [
      "      BLEU-1... 0.2370620486761166 - 1 / 10\n",
      "      BLEU-2... 0.14801081982285963 - 2 / 10\n",
      "      BLEU-3... 0.09954969316727447 - 3 / 10\n",
      "      BLEU-4... 0.07209404480044743 - 4 / 10\n",
      "      ROUGE-1-fmeasure... 0.2846418718279308 - 5 / 10\n",
      "      ROUGE-2-fmeasure... 0.11893295009719193 - 6 / 10\n",
      "      ROUGE-L-fmeasure... 0.2114813846972122 - 7 / 10\n",
      "      ROUGE-1-recall... 0.3951263975625028 - 8 / 10\n",
      "      ROUGE-2-recall... 0.16371637122906077 - 9 / 10\n",
      "      ROUGE-L-recall... 0.2942018022147545 - 10 / 10\n",
      "\n",
      "Done: 5/20\n",
      "Starting with preprocessor CourpusPreprocessor(mid)\n",
      "    Model: TextRank\n"
     ]
    },
    {
     "name": "stderr",
     "output_type": "stream",
     "text": [
      "100%|██████████| 500/500 [00:12<00:00, 39.94it/s]\n"
     ]
    },
    {
     "name": "stdout",
     "output_type": "stream",
     "text": [
      "      BLEU-1... 0.1875420403587444 - 1 / 10\n",
      "      BLEU-2... 0.11000232264246486 - 2 / 10\n",
      "      BLEU-3... 0.07357644692710358 - 3 / 10\n",
      "      BLEU-4... 0.0540869057151858 - 4 / 10\n",
      "      ROUGE-1-fmeasure... 0.27072548978233835 - 5 / 10\n",
      "      ROUGE-2-fmeasure... 0.09625937748668476 - 6 / 10\n",
      "      ROUGE-L-fmeasure... 0.1728642702803283 - 7 / 10\n",
      "      ROUGE-1-recall... 0.512354610590895 - 8 / 10\n",
      "      ROUGE-2-recall... 0.18209402060591517 - 9 / 10\n",
      "      ROUGE-L-recall... 0.32854398459733003 - 10 / 10\n",
      "\n",
      "Done: 6/20\n",
      "    Model: LexRank\n"
     ]
    },
    {
     "name": "stderr",
     "output_type": "stream",
     "text": [
      "100%|██████████| 500/500 [00:10<00:00, 45.69it/s]\n"
     ]
    },
    {
     "name": "stdout",
     "output_type": "stream",
     "text": [
      "      BLEU-1... 0.24234428289355592 - 1 / 10\n",
      "      BLEU-2... 0.1454105238410503 - 2 / 10\n",
      "      BLEU-3... 0.09978739377071438 - 3 / 10\n",
      "      BLEU-4... 0.07464749865567194 - 4 / 10\n",
      "      ROUGE-1-fmeasure... 0.3206974523433811 - 5 / 10\n",
      "      ROUGE-2-fmeasure... 0.1187732642240323 - 6 / 10\n",
      "      ROUGE-L-fmeasure... 0.20061338033880882 - 7 / 10\n",
      "      ROUGE-1-recall... 0.5114184334501268 - 8 / 10\n",
      "      ROUGE-2-recall... 0.19054612483636107 - 9 / 10\n",
      "      ROUGE-L-recall... 0.3225681202938556 - 10 / 10\n",
      "\n",
      "Done: 7/20\n",
      "    Model: Lsa\n"
     ]
    },
    {
     "name": "stderr",
     "output_type": "stream",
     "text": [
      "100%|██████████| 500/500 [00:08<00:00, 62.47it/s]\n"
     ]
    },
    {
     "name": "stdout",
     "output_type": "stream",
     "text": [
      "      BLEU-1... 0.24548554938568495 - 1 / 10\n",
      "      BLEU-2... 0.13630410844721239 - 2 / 10\n",
      "      BLEU-3... 0.0905165483332152 - 3 / 10\n",
      "      BLEU-4... 0.06627597592933893 - 4 / 10\n",
      "      ROUGE-1-fmeasure... 0.3016983877977286 - 5 / 10\n",
      "      ROUGE-2-fmeasure... 0.0947811802189595 - 6 / 10\n",
      "      ROUGE-L-fmeasure... 0.1852878685769606 - 7 / 10\n",
      "      ROUGE-1-recall... 0.432678537658337 - 8 / 10\n",
      "      ROUGE-2-recall... 0.1381791946571469 - 9 / 10\n",
      "      ROUGE-L-recall... 0.2689168894180368 - 10 / 10\n",
      "\n",
      "Done: 8/20\n",
      "    Model: Luhn\n"
     ]
    },
    {
     "name": "stderr",
     "output_type": "stream",
     "text": [
      "100%|██████████| 500/500 [00:03<00:00, 152.14it/s]\n"
     ]
    },
    {
     "name": "stdout",
     "output_type": "stream",
     "text": [
      "      BLEU-1... 0.2119778887936386 - 1 / 10\n",
      "      BLEU-2... 0.13020389624842355 - 2 / 10\n",
      "      BLEU-3... 0.09053718553208565 - 3 / 10\n",
      "      BLEU-4... 0.0681682796362757 - 4 / 10\n",
      "      ROUGE-1-fmeasure... 0.2972563012697218 - 5 / 10\n",
      "      ROUGE-2-fmeasure... 0.11553911556267826 - 6 / 10\n",
      "      ROUGE-L-fmeasure... 0.19254298457439797 - 7 / 10\n",
      "      ROUGE-1-recall... 0.5359045477433988 - 8 / 10\n",
      "      ROUGE-2-recall... 0.20601875346405718 - 9 / 10\n",
      "      ROUGE-L-recall... 0.34834520088866694 - 10 / 10\n",
      "\n",
      "Done: 9/20\n",
      "    Model: KL\n"
     ]
    },
    {
     "name": "stderr",
     "output_type": "stream",
     "text": [
      "100%|██████████| 500/500 [00:35<00:00, 13.99it/s]\n"
     ]
    },
    {
     "name": "stdout",
     "output_type": "stream",
     "text": [
      "      BLEU-1... 0.2547491475888943 - 1 / 10\n",
      "      BLEU-2... 0.1485146598939891 - 2 / 10\n",
      "      BLEU-3... 0.09903989492993166 - 3 / 10\n",
      "      BLEU-4... 0.07257330707603102 - 4 / 10\n",
      "      ROUGE-1-fmeasure... 0.2909479784435467 - 5 / 10\n",
      "      ROUGE-2-fmeasure... 0.10294361262245369 - 6 / 10\n",
      "      ROUGE-L-fmeasure... 0.19411632643997556 - 7 / 10\n",
      "      ROUGE-1-recall... 0.3736624390956721 - 8 / 10\n",
      "      ROUGE-2-recall... 0.13233878477240044 - 9 / 10\n",
      "      ROUGE-L-recall... 0.25111516891854235 - 10 / 10\n",
      "\n",
      "Done: 10/20\n",
      "Starting with preprocessor CourpusPreprocessor(simple)\n",
      "    Model: TextRank\n"
     ]
    },
    {
     "name": "stderr",
     "output_type": "stream",
     "text": [
      "100%|██████████| 500/500 [00:11<00:00, 43.63it/s]\n"
     ]
    },
    {
     "name": "stdout",
     "output_type": "stream",
     "text": [
      "      BLEU-1... 0.18542168993932326 - 1 / 10\n",
      "      BLEU-2... 0.11149520746580155 - 2 / 10\n",
      "      BLEU-3... 0.07588283900285715 - 3 / 10\n",
      "      BLEU-4... 0.056390000863920466 - 4 / 10\n",
      "      ROUGE-1-fmeasure... 0.2706142026431023 - 5 / 10\n",
      "      ROUGE-2-fmeasure... 0.10077062252830626 - 6 / 10\n",
      "      ROUGE-L-fmeasure... 0.1731473015154168 - 7 / 10\n",
      "      ROUGE-1-recall... 0.5254469008040987 - 8 / 10\n",
      "      ROUGE-2-recall... 0.19543353284460077 - 9 / 10\n",
      "      ROUGE-L-recall... 0.3379065328045739 - 10 / 10\n",
      "\n",
      "Done: 11/20\n",
      "    Model: LexRank\n"
     ]
    },
    {
     "name": "stderr",
     "output_type": "stream",
     "text": [
      "100%|██████████| 500/500 [00:10<00:00, 47.04it/s]\n"
     ]
    },
    {
     "name": "stdout",
     "output_type": "stream",
     "text": [
      "      BLEU-1... 0.23695496783416722 - 1 / 10\n",
      "      BLEU-2... 0.1454868589083665 - 2 / 10\n",
      "      BLEU-3... 0.10098275994204632 - 3 / 10\n",
      "      BLEU-4... 0.0758662800833772 - 4 / 10\n",
      "      ROUGE-1-fmeasure... 0.3188969052851063 - 5 / 10\n",
      "      ROUGE-2-fmeasure... 0.12313306518085082 - 6 / 10\n",
      "      ROUGE-L-fmeasure... 0.20096496380747136 - 7 / 10\n",
      "      ROUGE-1-recall... 0.5215237828832291 - 8 / 10\n",
      "      ROUGE-2-recall... 0.20272033024885627 - 9 / 10\n",
      "      ROUGE-L-recall... 0.3311480901509919 - 10 / 10\n",
      "\n",
      "Done: 12/20\n",
      "    Model: Lsa\n"
     ]
    },
    {
     "name": "stderr",
     "output_type": "stream",
     "text": [
      "100%|██████████| 500/500 [00:08<00:00, 57.53it/s]\n"
     ]
    },
    {
     "name": "stdout",
     "output_type": "stream",
     "text": [
      "      BLEU-1... 0.24076173679348284 - 1 / 10\n",
      "      BLEU-2... 0.13514259438248827 - 2 / 10\n",
      "      BLEU-3... 0.09062133151173664 - 3 / 10\n",
      "      BLEU-4... 0.06672977242544659 - 4 / 10\n",
      "      ROUGE-1-fmeasure... 0.2990799293116909 - 5 / 10\n",
      "      ROUGE-2-fmeasure... 0.09558589548366553 - 6 / 10\n",
      "      ROUGE-L-fmeasure... 0.1834315385880116 - 7 / 10\n",
      "      ROUGE-1-recall... 0.4341805946481095 - 8 / 10\n",
      "      ROUGE-2-recall... 0.1410780579080495 - 9 / 10\n",
      "      ROUGE-L-recall... 0.2690930517139838 - 10 / 10\n",
      "\n",
      "Done: 13/20\n",
      "    Model: Luhn\n"
     ]
    },
    {
     "name": "stderr",
     "output_type": "stream",
     "text": [
      "100%|██████████| 500/500 [00:03<00:00, 155.87it/s]\n"
     ]
    },
    {
     "name": "stdout",
     "output_type": "stream",
     "text": [
      "      BLEU-1... 0.20634588854980979 - 1 / 10\n",
      "      BLEU-2... 0.12835771953462827 - 2 / 10\n",
      "      BLEU-3... 0.09032413704150713 - 3 / 10\n",
      "      BLEU-4... 0.06870857273453135 - 4 / 10\n",
      "      ROUGE-1-fmeasure... 0.29220190910911825 - 5 / 10\n",
      "      ROUGE-2-fmeasure... 0.11620955695859303 - 6 / 10\n",
      "      ROUGE-L-fmeasure... 0.18984214651974887 - 7 / 10\n",
      "      ROUGE-1-recall... 0.5428376473687981 - 8 / 10\n",
      "      ROUGE-2-recall... 0.21418765214839228 - 9 / 10\n",
      "      ROUGE-L-recall... 0.35394727206120336 - 10 / 10\n",
      "\n",
      "Done: 14/20\n",
      "    Model: KL\n"
     ]
    },
    {
     "name": "stderr",
     "output_type": "stream",
     "text": [
      "100%|██████████| 500/500 [00:34<00:00, 14.46it/s]\n"
     ]
    },
    {
     "name": "stdout",
     "output_type": "stream",
     "text": [
      "      BLEU-1... 0.24968149745197965 - 1 / 10\n",
      "      BLEU-2... 0.14726940520022277 - 2 / 10\n",
      "      BLEU-3... 0.09956542312550418 - 3 / 10\n",
      "      BLEU-4... 0.07394639674190365 - 4 / 10\n",
      "      ROUGE-1-fmeasure... 0.2891911363283046 - 5 / 10\n",
      "      ROUGE-2-fmeasure... 0.10426481880078213 - 6 / 10\n",
      "      ROUGE-L-fmeasure... 0.1930385291309028 - 7 / 10\n",
      "      ROUGE-1-recall... 0.37691886619479376 - 8 / 10\n",
      "      ROUGE-2-recall... 0.13623549449915673 - 9 / 10\n",
      "      ROUGE-L-recall... 0.25375113464300864 - 10 / 10\n",
      "\n",
      "Done: 15/20\n",
      "Starting with preprocessor CourpusPreprocessor(nothing)\n",
      "    Model: TextRank\n"
     ]
    },
    {
     "name": "stderr",
     "output_type": "stream",
     "text": [
      "100%|██████████| 500/500 [00:11<00:00, 42.20it/s]\n"
     ]
    },
    {
     "name": "stdout",
     "output_type": "stream",
     "text": [
      "      BLEU-1... 0.17294688741156206 - 1 / 10\n",
      "      BLEU-2... 0.10044711183456911 - 2 / 10\n",
      "      BLEU-3... 0.06750263499358954 - 3 / 10\n",
      "      BLEU-4... 0.04979363023548302 - 4 / 10\n",
      "      ROUGE-1-fmeasure... 0.27855707029185095 - 5 / 10\n",
      "      ROUGE-2-fmeasure... 0.10149056917570429 - 6 / 10\n",
      "      ROUGE-L-fmeasure... 0.17510482963960666 - 7 / 10\n",
      "      ROUGE-1-recall... 0.5129138392347288 - 8 / 10\n",
      "      ROUGE-2-recall... 0.18662888713100212 - 9 / 10\n",
      "      ROUGE-L-recall... 0.3242202972748104 - 10 / 10\n",
      "\n",
      "Done: 16/20\n",
      "    Model: LexRank\n"
     ]
    },
    {
     "name": "stderr",
     "output_type": "stream",
     "text": [
      "100%|██████████| 500/500 [00:10<00:00, 46.29it/s]\n"
     ]
    },
    {
     "name": "stdout",
     "output_type": "stream",
     "text": [
      "      BLEU-1... 0.2225016858949824 - 1 / 10\n",
      "      BLEU-2... 0.1321169338848814 - 2 / 10\n",
      "      BLEU-3... 0.09041486180579818 - 3 / 10\n",
      "      BLEU-4... 0.0674674922835785 - 4 / 10\n",
      "      ROUGE-1-fmeasure... 0.3247130968566385 - 5 / 10\n",
      "      ROUGE-2-fmeasure... 0.12241237555881365 - 6 / 10\n",
      "      ROUGE-L-fmeasure... 0.20082057428888495 - 7 / 10\n",
      "      ROUGE-1-recall... 0.5081261707580107 - 8 / 10\n",
      "      ROUGE-2-recall... 0.19336974640177718 - 9 / 10\n",
      "      ROUGE-L-recall... 0.31725785409473367 - 10 / 10\n",
      "\n",
      "Done: 17/20\n",
      "    Model: Lsa\n"
     ]
    },
    {
     "name": "stderr",
     "output_type": "stream",
     "text": [
      "100%|██████████| 500/500 [00:08<00:00, 60.71it/s]\n"
     ]
    },
    {
     "name": "stdout",
     "output_type": "stream",
     "text": [
      "      BLEU-1... 0.22311951502418315 - 1 / 10\n",
      "      BLEU-2... 0.12401157359215073 - 2 / 10\n",
      "      BLEU-3... 0.08328725366225453 - 3 / 10\n",
      "      BLEU-4... 0.06141193182261869 - 4 / 10\n",
      "      ROUGE-1-fmeasure... 0.3071578472454435 - 5 / 10\n",
      "      ROUGE-2-fmeasure... 0.10061231693765942 - 6 / 10\n",
      "      ROUGE-L-fmeasure... 0.1884184837876725 - 7 / 10\n",
      "      ROUGE-1-recall... 0.4333085798585603 - 8 / 10\n",
      "      ROUGE-2-recall... 0.14433896851295686 - 9 / 10\n",
      "      ROUGE-L-recall... 0.268595558460322 - 10 / 10\n",
      "\n",
      "Done: 18/20\n",
      "    Model: Luhn\n"
     ]
    },
    {
     "name": "stderr",
     "output_type": "stream",
     "text": [
      "100%|██████████| 500/500 [00:03<00:00, 139.79it/s]\n"
     ]
    },
    {
     "name": "stdout",
     "output_type": "stream",
     "text": [
      "      BLEU-1... 0.19660066847524693 - 1 / 10\n",
      "      BLEU-2... 0.11956369604291492 - 2 / 10\n",
      "      BLEU-3... 0.0833812324641324 - 3 / 10\n",
      "      BLEU-4... 0.06305080530831957 - 4 / 10\n",
      "      ROUGE-1-fmeasure... 0.30311503711518895 - 5 / 10\n",
      "      ROUGE-2-fmeasure... 0.12078476411561606 - 6 / 10\n",
      "      ROUGE-L-fmeasure... 0.19528758468288718 - 7 / 10\n",
      "      ROUGE-1-recall... 0.533303267067496 - 8 / 10\n",
      "      ROUGE-2-recall... 0.21007000103898016 - 9 / 10\n",
      "      ROUGE-L-recall... 0.3448695703836534 - 10 / 10\n",
      "\n",
      "Done: 19/20\n",
      "    Model: KL\n"
     ]
    },
    {
     "name": "stderr",
     "output_type": "stream",
     "text": [
      "100%|██████████| 500/500 [00:38<00:00, 12.82it/s]\n"
     ]
    },
    {
     "name": "stdout",
     "output_type": "stream",
     "text": [
      "      BLEU-1... 0.21271945122660157 - 1 / 10\n",
      "      BLEU-2... 0.12129901016587288 - 2 / 10\n",
      "      BLEU-3... 0.0807286740122743 - 3 / 10\n",
      "      BLEU-4... 0.05930730836589287 - 4 / 10\n",
      "      ROUGE-1-fmeasure... 0.2849468612411222 - 5 / 10\n",
      "      ROUGE-2-fmeasure... 0.1014592234994447 - 6 / 10\n",
      "      ROUGE-L-fmeasure... 0.18605288087151964 - 7 / 10\n",
      "      ROUGE-1-recall... 0.38293574650558915 - 8 / 10\n",
      "      ROUGE-2-recall... 0.13599624959820433 - 9 / 10\n",
      "      ROUGE-L-recall... 0.2516078710291307 - 10 / 10\n",
      "\n",
      "Done: 20/20\n"
     ]
    },
    {
     "data": {
      "text/plain": "{'CourpusPreprocessor(strong)': {'TextRank': {'BLEU-1': 0.20843275625729807,\n   'BLEU-2': 0.13078957308579928,\n   'BLEU-3': 0.08758466538868595,\n   'BLEU-4': 0.06302689979364826,\n   'ROUGE-1-fmeasure': 0.2802082008853045,\n   'ROUGE-2-fmeasure': 0.11552971434225888,\n   'ROUGE-L-fmeasure': 0.20241138735028996,\n   'ROUGE-1-recall': 0.4753477954330174,\n   'ROUGE-2-recall': 0.1986445181977855,\n   'ROUGE-L-recall': 0.3441145438091803},\n  'LexRank': {'BLEU-1': 0.2591295477728664,\n   'BLEU-2': 0.15825142289863528,\n   'BLEU-3': 0.10309360206906006,\n   'BLEU-4': 0.07188049423948577,\n   'ROUGE-1-fmeasure': 0.3103108999394126,\n   'ROUGE-2-fmeasure': 0.12033220121757199,\n   'ROUGE-L-fmeasure': 0.214927126176479,\n   'ROUGE-1-recall': 0.439371647786182,\n   'ROUGE-2-recall': 0.17480503305651524,\n   'ROUGE-L-recall': 0.30650915367840303},\n  'Lsa': {'BLEU-1': 0.191573283180524,\n   'BLEU-2': 0.11477275996718318,\n   'BLEU-3': 0.07438709094008615,\n   'BLEU-4': 0.05222961275109926,\n   'ROUGE-1-fmeasure': 0.26566891359235045,\n   'ROUGE-2-fmeasure': 0.09994196328834262,\n   'ROUGE-L-fmeasure': 0.17852906243672817,\n   'ROUGE-1-recall': 0.44834219087213945,\n   'ROUGE-2-recall': 0.17134479949760914,\n   'ROUGE-L-recall': 0.3030858858704796},\n  'Luhn': {'BLEU-1': 0.22700729927007302,\n   'BLEU-2': 0.14343332849387472,\n   'BLEU-3': 0.09723026074061175,\n   'BLEU-4': 0.0702808998913148,\n   'ROUGE-1-fmeasure': 0.29187752601632344,\n   'ROUGE-2-fmeasure': 0.12310496082754012,\n   'ROUGE-L-fmeasure': 0.21013761383642615,\n   'ROUGE-1-recall': 0.46810006591900877,\n   'ROUGE-2-recall': 0.19791468920280103,\n   'ROUGE-L-recall': 0.3379418295486333},\n  'KL': {'BLEU-1': 0.2370620486761166,\n   'BLEU-2': 0.14801081982285963,\n   'BLEU-3': 0.09954969316727447,\n   'BLEU-4': 0.07209404480044743,\n   'ROUGE-1-fmeasure': 0.2846418718279308,\n   'ROUGE-2-fmeasure': 0.11893295009719193,\n   'ROUGE-L-fmeasure': 0.2114813846972122,\n   'ROUGE-1-recall': 0.3951263975625028,\n   'ROUGE-2-recall': 0.16371637122906077,\n   'ROUGE-L-recall': 0.2942018022147545}},\n 'CourpusPreprocessor(mid)': {'TextRank': {'BLEU-1': 0.1875420403587444,\n   'BLEU-2': 0.11000232264246486,\n   'BLEU-3': 0.07357644692710358,\n   'BLEU-4': 0.0540869057151858,\n   'ROUGE-1-fmeasure': 0.27072548978233835,\n   'ROUGE-2-fmeasure': 0.09625937748668476,\n   'ROUGE-L-fmeasure': 0.1728642702803283,\n   'ROUGE-1-recall': 0.512354610590895,\n   'ROUGE-2-recall': 0.18209402060591517,\n   'ROUGE-L-recall': 0.32854398459733003},\n  'LexRank': {'BLEU-1': 0.24234428289355592,\n   'BLEU-2': 0.1454105238410503,\n   'BLEU-3': 0.09978739377071438,\n   'BLEU-4': 0.07464749865567194,\n   'ROUGE-1-fmeasure': 0.3206974523433811,\n   'ROUGE-2-fmeasure': 0.1187732642240323,\n   'ROUGE-L-fmeasure': 0.20061338033880882,\n   'ROUGE-1-recall': 0.5114184334501268,\n   'ROUGE-2-recall': 0.19054612483636107,\n   'ROUGE-L-recall': 0.3225681202938556},\n  'Lsa': {'BLEU-1': 0.24548554938568495,\n   'BLEU-2': 0.13630410844721239,\n   'BLEU-3': 0.0905165483332152,\n   'BLEU-4': 0.06627597592933893,\n   'ROUGE-1-fmeasure': 0.3016983877977286,\n   'ROUGE-2-fmeasure': 0.0947811802189595,\n   'ROUGE-L-fmeasure': 0.1852878685769606,\n   'ROUGE-1-recall': 0.432678537658337,\n   'ROUGE-2-recall': 0.1381791946571469,\n   'ROUGE-L-recall': 0.2689168894180368},\n  'Luhn': {'BLEU-1': 0.2119778887936386,\n   'BLEU-2': 0.13020389624842355,\n   'BLEU-3': 0.09053718553208565,\n   'BLEU-4': 0.0681682796362757,\n   'ROUGE-1-fmeasure': 0.2972563012697218,\n   'ROUGE-2-fmeasure': 0.11553911556267826,\n   'ROUGE-L-fmeasure': 0.19254298457439797,\n   'ROUGE-1-recall': 0.5359045477433988,\n   'ROUGE-2-recall': 0.20601875346405718,\n   'ROUGE-L-recall': 0.34834520088866694},\n  'KL': {'BLEU-1': 0.2547491475888943,\n   'BLEU-2': 0.1485146598939891,\n   'BLEU-3': 0.09903989492993166,\n   'BLEU-4': 0.07257330707603102,\n   'ROUGE-1-fmeasure': 0.2909479784435467,\n   'ROUGE-2-fmeasure': 0.10294361262245369,\n   'ROUGE-L-fmeasure': 0.19411632643997556,\n   'ROUGE-1-recall': 0.3736624390956721,\n   'ROUGE-2-recall': 0.13233878477240044,\n   'ROUGE-L-recall': 0.25111516891854235}},\n 'CourpusPreprocessor(simple)': {'TextRank': {'BLEU-1': 0.18542168993932326,\n   'BLEU-2': 0.11149520746580155,\n   'BLEU-3': 0.07588283900285715,\n   'BLEU-4': 0.056390000863920466,\n   'ROUGE-1-fmeasure': 0.2706142026431023,\n   'ROUGE-2-fmeasure': 0.10077062252830626,\n   'ROUGE-L-fmeasure': 0.1731473015154168,\n   'ROUGE-1-recall': 0.5254469008040987,\n   'ROUGE-2-recall': 0.19543353284460077,\n   'ROUGE-L-recall': 0.3379065328045739},\n  'LexRank': {'BLEU-1': 0.23695496783416722,\n   'BLEU-2': 0.1454868589083665,\n   'BLEU-3': 0.10098275994204632,\n   'BLEU-4': 0.0758662800833772,\n   'ROUGE-1-fmeasure': 0.3188969052851063,\n   'ROUGE-2-fmeasure': 0.12313306518085082,\n   'ROUGE-L-fmeasure': 0.20096496380747136,\n   'ROUGE-1-recall': 0.5215237828832291,\n   'ROUGE-2-recall': 0.20272033024885627,\n   'ROUGE-L-recall': 0.3311480901509919},\n  'Lsa': {'BLEU-1': 0.24076173679348284,\n   'BLEU-2': 0.13514259438248827,\n   'BLEU-3': 0.09062133151173664,\n   'BLEU-4': 0.06672977242544659,\n   'ROUGE-1-fmeasure': 0.2990799293116909,\n   'ROUGE-2-fmeasure': 0.09558589548366553,\n   'ROUGE-L-fmeasure': 0.1834315385880116,\n   'ROUGE-1-recall': 0.4341805946481095,\n   'ROUGE-2-recall': 0.1410780579080495,\n   'ROUGE-L-recall': 0.2690930517139838},\n  'Luhn': {'BLEU-1': 0.20634588854980979,\n   'BLEU-2': 0.12835771953462827,\n   'BLEU-3': 0.09032413704150713,\n   'BLEU-4': 0.06870857273453135,\n   'ROUGE-1-fmeasure': 0.29220190910911825,\n   'ROUGE-2-fmeasure': 0.11620955695859303,\n   'ROUGE-L-fmeasure': 0.18984214651974887,\n   'ROUGE-1-recall': 0.5428376473687981,\n   'ROUGE-2-recall': 0.21418765214839228,\n   'ROUGE-L-recall': 0.35394727206120336},\n  'KL': {'BLEU-1': 0.24968149745197965,\n   'BLEU-2': 0.14726940520022277,\n   'BLEU-3': 0.09956542312550418,\n   'BLEU-4': 0.07394639674190365,\n   'ROUGE-1-fmeasure': 0.2891911363283046,\n   'ROUGE-2-fmeasure': 0.10426481880078213,\n   'ROUGE-L-fmeasure': 0.1930385291309028,\n   'ROUGE-1-recall': 0.37691886619479376,\n   'ROUGE-2-recall': 0.13623549449915673,\n   'ROUGE-L-recall': 0.25375113464300864}},\n 'CourpusPreprocessor(nothing)': {'TextRank': {'BLEU-1': 0.17294688741156206,\n   'BLEU-2': 0.10044711183456911,\n   'BLEU-3': 0.06750263499358954,\n   'BLEU-4': 0.04979363023548302,\n   'ROUGE-1-fmeasure': 0.27855707029185095,\n   'ROUGE-2-fmeasure': 0.10149056917570429,\n   'ROUGE-L-fmeasure': 0.17510482963960666,\n   'ROUGE-1-recall': 0.5129138392347288,\n   'ROUGE-2-recall': 0.18662888713100212,\n   'ROUGE-L-recall': 0.3242202972748104},\n  'LexRank': {'BLEU-1': 0.2225016858949824,\n   'BLEU-2': 0.1321169338848814,\n   'BLEU-3': 0.09041486180579818,\n   'BLEU-4': 0.0674674922835785,\n   'ROUGE-1-fmeasure': 0.3247130968566385,\n   'ROUGE-2-fmeasure': 0.12241237555881365,\n   'ROUGE-L-fmeasure': 0.20082057428888495,\n   'ROUGE-1-recall': 0.5081261707580107,\n   'ROUGE-2-recall': 0.19336974640177718,\n   'ROUGE-L-recall': 0.31725785409473367},\n  'Lsa': {'BLEU-1': 0.22311951502418315,\n   'BLEU-2': 0.12401157359215073,\n   'BLEU-3': 0.08328725366225453,\n   'BLEU-4': 0.06141193182261869,\n   'ROUGE-1-fmeasure': 0.3071578472454435,\n   'ROUGE-2-fmeasure': 0.10061231693765942,\n   'ROUGE-L-fmeasure': 0.1884184837876725,\n   'ROUGE-1-recall': 0.4333085798585603,\n   'ROUGE-2-recall': 0.14433896851295686,\n   'ROUGE-L-recall': 0.268595558460322},\n  'Luhn': {'BLEU-1': 0.19660066847524693,\n   'BLEU-2': 0.11956369604291492,\n   'BLEU-3': 0.0833812324641324,\n   'BLEU-4': 0.06305080530831957,\n   'ROUGE-1-fmeasure': 0.30311503711518895,\n   'ROUGE-2-fmeasure': 0.12078476411561606,\n   'ROUGE-L-fmeasure': 0.19528758468288718,\n   'ROUGE-1-recall': 0.533303267067496,\n   'ROUGE-2-recall': 0.21007000103898016,\n   'ROUGE-L-recall': 0.3448695703836534},\n  'KL': {'BLEU-1': 0.21271945122660157,\n   'BLEU-2': 0.12129901016587288,\n   'BLEU-3': 0.0807286740122743,\n   'BLEU-4': 0.05930730836589287,\n   'ROUGE-1-fmeasure': 0.2849468612411222,\n   'ROUGE-2-fmeasure': 0.1014592234994447,\n   'ROUGE-L-fmeasure': 0.18605288087151964,\n   'ROUGE-1-recall': 0.38293574650558915,\n   'ROUGE-2-recall': 0.13599624959820433,\n   'ROUGE-L-recall': 0.2516078710291307}}}"
     },
     "execution_count": 106,
     "metadata": {},
     "output_type": "execute_result"
    }
   ],
   "source": [
    "models = [ TextRank, LexRank, Lsa, Luhn, KL]\n",
    "# metrics = [glove_cosine]\n",
    "# models = [ MyTextRank ]\n",
    "evaluate_models(\n",
    "    preprocessors,\n",
    "    models,\n",
    "    metrics,\n",
    "    orig_documents,\n",
    "    orig_summaries\n",
    ")"
   ],
   "metadata": {
    "collapsed": false,
    "pycharm": {
     "name": "#%%\n"
    }
   }
  },
  {
   "cell_type": "code",
   "execution_count": 107,
   "outputs": [
    {
     "name": "stdout",
     "output_type": "stream",
     "text": [
      "{'CourpusPreprocessor(mid)': {'KL': {'BLEU-1': 0.2547491475888943,\n",
      "                                     'BLEU-2': 0.1485146598939891,\n",
      "                                     'BLEU-3': 0.09903989492993166,\n",
      "                                     'BLEU-4': 0.07257330707603102,\n",
      "                                     'ROUGE-1-fmeasure': 0.2909479784435467,\n",
      "                                     'ROUGE-1-recall': 0.3736624390956721,\n",
      "                                     'ROUGE-2-fmeasure': 0.10294361262245369,\n",
      "                                     'ROUGE-2-recall': 0.13233878477240044,\n",
      "                                     'ROUGE-L-fmeasure': 0.19411632643997556,\n",
      "                                     'ROUGE-L-recall': 0.25111516891854235},\n",
      "                              'LexRank': {'BLEU-1': 0.24234428289355592,\n",
      "                                          'BLEU-2': 0.1454105238410503,\n",
      "                                          'BLEU-3': 0.09978739377071438,\n",
      "                                          'BLEU-4': 0.07464749865567194,\n",
      "                                          'ROUGE-1-fmeasure': 0.3206974523433811,\n",
      "                                          'ROUGE-1-recall': 0.5114184334501268,\n",
      "                                          'ROUGE-2-fmeasure': 0.1187732642240323,\n",
      "                                          'ROUGE-2-recall': 0.19054612483636107,\n",
      "                                          'ROUGE-L-fmeasure': 0.20061338033880882,\n",
      "                                          'ROUGE-L-recall': 0.3225681202938556},\n",
      "                              'Lsa': {'BLEU-1': 0.24548554938568495,\n",
      "                                      'BLEU-2': 0.13630410844721239,\n",
      "                                      'BLEU-3': 0.0905165483332152,\n",
      "                                      'BLEU-4': 0.06627597592933893,\n",
      "                                      'ROUGE-1-fmeasure': 0.3016983877977286,\n",
      "                                      'ROUGE-1-recall': 0.432678537658337,\n",
      "                                      'ROUGE-2-fmeasure': 0.0947811802189595,\n",
      "                                      'ROUGE-2-recall': 0.1381791946571469,\n",
      "                                      'ROUGE-L-fmeasure': 0.1852878685769606,\n",
      "                                      'ROUGE-L-recall': 0.2689168894180368},\n",
      "                              'Luhn': {'BLEU-1': 0.2119778887936386,\n",
      "                                       'BLEU-2': 0.13020389624842355,\n",
      "                                       'BLEU-3': 0.09053718553208565,\n",
      "                                       'BLEU-4': 0.0681682796362757,\n",
      "                                       'ROUGE-1-fmeasure': 0.2972563012697218,\n",
      "                                       'ROUGE-1-recall': 0.5359045477433988,\n",
      "                                       'ROUGE-2-fmeasure': 0.11553911556267826,\n",
      "                                       'ROUGE-2-recall': 0.20601875346405718,\n",
      "                                       'ROUGE-L-fmeasure': 0.19254298457439797,\n",
      "                                       'ROUGE-L-recall': 0.34834520088866694},\n",
      "                              'TextRank': {'BLEU-1': 0.1875420403587444,\n",
      "                                           'BLEU-2': 0.11000232264246486,\n",
      "                                           'BLEU-3': 0.07357644692710358,\n",
      "                                           'BLEU-4': 0.0540869057151858,\n",
      "                                           'ROUGE-1-fmeasure': 0.27072548978233835,\n",
      "                                           'ROUGE-1-recall': 0.512354610590895,\n",
      "                                           'ROUGE-2-fmeasure': 0.09625937748668476,\n",
      "                                           'ROUGE-2-recall': 0.18209402060591517,\n",
      "                                           'ROUGE-L-fmeasure': 0.1728642702803283,\n",
      "                                           'ROUGE-L-recall': 0.32854398459733003}},\n",
      " 'CourpusPreprocessor(nothing)': {'KL': {'BLEU-1': 0.21271945122660157,\n",
      "                                         'BLEU-2': 0.12129901016587288,\n",
      "                                         'BLEU-3': 0.0807286740122743,\n",
      "                                         'BLEU-4': 0.05930730836589287,\n",
      "                                         'ROUGE-1-fmeasure': 0.2849468612411222,\n",
      "                                         'ROUGE-1-recall': 0.38293574650558915,\n",
      "                                         'ROUGE-2-fmeasure': 0.1014592234994447,\n",
      "                                         'ROUGE-2-recall': 0.13599624959820433,\n",
      "                                         'ROUGE-L-fmeasure': 0.18605288087151964,\n",
      "                                         'ROUGE-L-recall': 0.2516078710291307},\n",
      "                                  'LexRank': {'BLEU-1': 0.2225016858949824,\n",
      "                                              'BLEU-2': 0.1321169338848814,\n",
      "                                              'BLEU-3': 0.09041486180579818,\n",
      "                                              'BLEU-4': 0.0674674922835785,\n",
      "                                              'ROUGE-1-fmeasure': 0.3247130968566385,\n",
      "                                              'ROUGE-1-recall': 0.5081261707580107,\n",
      "                                              'ROUGE-2-fmeasure': 0.12241237555881365,\n",
      "                                              'ROUGE-2-recall': 0.19336974640177718,\n",
      "                                              'ROUGE-L-fmeasure': 0.20082057428888495,\n",
      "                                              'ROUGE-L-recall': 0.31725785409473367},\n",
      "                                  'Lsa': {'BLEU-1': 0.22311951502418315,\n",
      "                                          'BLEU-2': 0.12401157359215073,\n",
      "                                          'BLEU-3': 0.08328725366225453,\n",
      "                                          'BLEU-4': 0.06141193182261869,\n",
      "                                          'ROUGE-1-fmeasure': 0.3071578472454435,\n",
      "                                          'ROUGE-1-recall': 0.4333085798585603,\n",
      "                                          'ROUGE-2-fmeasure': 0.10061231693765942,\n",
      "                                          'ROUGE-2-recall': 0.14433896851295686,\n",
      "                                          'ROUGE-L-fmeasure': 0.1884184837876725,\n",
      "                                          'ROUGE-L-recall': 0.268595558460322},\n",
      "                                  'Luhn': {'BLEU-1': 0.19660066847524693,\n",
      "                                           'BLEU-2': 0.11956369604291492,\n",
      "                                           'BLEU-3': 0.0833812324641324,\n",
      "                                           'BLEU-4': 0.06305080530831957,\n",
      "                                           'ROUGE-1-fmeasure': 0.30311503711518895,\n",
      "                                           'ROUGE-1-recall': 0.533303267067496,\n",
      "                                           'ROUGE-2-fmeasure': 0.12078476411561606,\n",
      "                                           'ROUGE-2-recall': 0.21007000103898016,\n",
      "                                           'ROUGE-L-fmeasure': 0.19528758468288718,\n",
      "                                           'ROUGE-L-recall': 0.3448695703836534},\n",
      "                                  'TextRank': {'BLEU-1': 0.17294688741156206,\n",
      "                                               'BLEU-2': 0.10044711183456911,\n",
      "                                               'BLEU-3': 0.06750263499358954,\n",
      "                                               'BLEU-4': 0.04979363023548302,\n",
      "                                               'ROUGE-1-fmeasure': 0.27855707029185095,\n",
      "                                               'ROUGE-1-recall': 0.5129138392347288,\n",
      "                                               'ROUGE-2-fmeasure': 0.10149056917570429,\n",
      "                                               'ROUGE-2-recall': 0.18662888713100212,\n",
      "                                               'ROUGE-L-fmeasure': 0.17510482963960666,\n",
      "                                               'ROUGE-L-recall': 0.3242202972748104}},\n",
      " 'CourpusPreprocessor(simple)': {'KL': {'BLEU-1': 0.24968149745197965,\n",
      "                                        'BLEU-2': 0.14726940520022277,\n",
      "                                        'BLEU-3': 0.09956542312550418,\n",
      "                                        'BLEU-4': 0.07394639674190365,\n",
      "                                        'ROUGE-1-fmeasure': 0.2891911363283046,\n",
      "                                        'ROUGE-1-recall': 0.37691886619479376,\n",
      "                                        'ROUGE-2-fmeasure': 0.10426481880078213,\n",
      "                                        'ROUGE-2-recall': 0.13623549449915673,\n",
      "                                        'ROUGE-L-fmeasure': 0.1930385291309028,\n",
      "                                        'ROUGE-L-recall': 0.25375113464300864},\n",
      "                                 'LexRank': {'BLEU-1': 0.23695496783416722,\n",
      "                                             'BLEU-2': 0.1454868589083665,\n",
      "                                             'BLEU-3': 0.10098275994204632,\n",
      "                                             'BLEU-4': 0.0758662800833772,\n",
      "                                             'ROUGE-1-fmeasure': 0.3188969052851063,\n",
      "                                             'ROUGE-1-recall': 0.5215237828832291,\n",
      "                                             'ROUGE-2-fmeasure': 0.12313306518085082,\n",
      "                                             'ROUGE-2-recall': 0.20272033024885627,\n",
      "                                             'ROUGE-L-fmeasure': 0.20096496380747136,\n",
      "                                             'ROUGE-L-recall': 0.3311480901509919},\n",
      "                                 'Lsa': {'BLEU-1': 0.24076173679348284,\n",
      "                                         'BLEU-2': 0.13514259438248827,\n",
      "                                         'BLEU-3': 0.09062133151173664,\n",
      "                                         'BLEU-4': 0.06672977242544659,\n",
      "                                         'ROUGE-1-fmeasure': 0.2990799293116909,\n",
      "                                         'ROUGE-1-recall': 0.4341805946481095,\n",
      "                                         'ROUGE-2-fmeasure': 0.09558589548366553,\n",
      "                                         'ROUGE-2-recall': 0.1410780579080495,\n",
      "                                         'ROUGE-L-fmeasure': 0.1834315385880116,\n",
      "                                         'ROUGE-L-recall': 0.2690930517139838},\n",
      "                                 'Luhn': {'BLEU-1': 0.20634588854980979,\n",
      "                                          'BLEU-2': 0.12835771953462827,\n",
      "                                          'BLEU-3': 0.09032413704150713,\n",
      "                                          'BLEU-4': 0.06870857273453135,\n",
      "                                          'ROUGE-1-fmeasure': 0.29220190910911825,\n",
      "                                          'ROUGE-1-recall': 0.5428376473687981,\n",
      "                                          'ROUGE-2-fmeasure': 0.11620955695859303,\n",
      "                                          'ROUGE-2-recall': 0.21418765214839228,\n",
      "                                          'ROUGE-L-fmeasure': 0.18984214651974887,\n",
      "                                          'ROUGE-L-recall': 0.35394727206120336},\n",
      "                                 'TextRank': {'BLEU-1': 0.18542168993932326,\n",
      "                                              'BLEU-2': 0.11149520746580155,\n",
      "                                              'BLEU-3': 0.07588283900285715,\n",
      "                                              'BLEU-4': 0.056390000863920466,\n",
      "                                              'ROUGE-1-fmeasure': 0.2706142026431023,\n",
      "                                              'ROUGE-1-recall': 0.5254469008040987,\n",
      "                                              'ROUGE-2-fmeasure': 0.10077062252830626,\n",
      "                                              'ROUGE-2-recall': 0.19543353284460077,\n",
      "                                              'ROUGE-L-fmeasure': 0.1731473015154168,\n",
      "                                              'ROUGE-L-recall': 0.3379065328045739}},\n",
      " 'CourpusPreprocessor(strong)': {'KL': {'BLEU-1': 0.2370620486761166,\n",
      "                                        'BLEU-2': 0.14801081982285963,\n",
      "                                        'BLEU-3': 0.09954969316727447,\n",
      "                                        'BLEU-4': 0.07209404480044743,\n",
      "                                        'ROUGE-1-fmeasure': 0.2846418718279308,\n",
      "                                        'ROUGE-1-recall': 0.3951263975625028,\n",
      "                                        'ROUGE-2-fmeasure': 0.11893295009719193,\n",
      "                                        'ROUGE-2-recall': 0.16371637122906077,\n",
      "                                        'ROUGE-L-fmeasure': 0.2114813846972122,\n",
      "                                        'ROUGE-L-recall': 0.2942018022147545},\n",
      "                                 'LexRank': {'BLEU-1': 0.2591295477728664,\n",
      "                                             'BLEU-2': 0.15825142289863528,\n",
      "                                             'BLEU-3': 0.10309360206906006,\n",
      "                                             'BLEU-4': 0.07188049423948577,\n",
      "                                             'ROUGE-1-fmeasure': 0.3103108999394126,\n",
      "                                             'ROUGE-1-recall': 0.439371647786182,\n",
      "                                             'ROUGE-2-fmeasure': 0.12033220121757199,\n",
      "                                             'ROUGE-2-recall': 0.17480503305651524,\n",
      "                                             'ROUGE-L-fmeasure': 0.214927126176479,\n",
      "                                             'ROUGE-L-recall': 0.30650915367840303},\n",
      "                                 'Lsa': {'BLEU-1': 0.191573283180524,\n",
      "                                         'BLEU-2': 0.11477275996718318,\n",
      "                                         'BLEU-3': 0.07438709094008615,\n",
      "                                         'BLEU-4': 0.05222961275109926,\n",
      "                                         'ROUGE-1-fmeasure': 0.26566891359235045,\n",
      "                                         'ROUGE-1-recall': 0.44834219087213945,\n",
      "                                         'ROUGE-2-fmeasure': 0.09994196328834262,\n",
      "                                         'ROUGE-2-recall': 0.17134479949760914,\n",
      "                                         'ROUGE-L-fmeasure': 0.17852906243672817,\n",
      "                                         'ROUGE-L-recall': 0.3030858858704796},\n",
      "                                 'Luhn': {'BLEU-1': 0.22700729927007302,\n",
      "                                          'BLEU-2': 0.14343332849387472,\n",
      "                                          'BLEU-3': 0.09723026074061175,\n",
      "                                          'BLEU-4': 0.0702808998913148,\n",
      "                                          'ROUGE-1-fmeasure': 0.29187752601632344,\n",
      "                                          'ROUGE-1-recall': 0.46810006591900877,\n",
      "                                          'ROUGE-2-fmeasure': 0.12310496082754012,\n",
      "                                          'ROUGE-2-recall': 0.19791468920280103,\n",
      "                                          'ROUGE-L-fmeasure': 0.21013761383642615,\n",
      "                                          'ROUGE-L-recall': 0.3379418295486333},\n",
      "                                 'TextRank': {'BLEU-1': 0.20843275625729807,\n",
      "                                              'BLEU-2': 0.13078957308579928,\n",
      "                                              'BLEU-3': 0.08758466538868595,\n",
      "                                              'BLEU-4': 0.06302689979364826,\n",
      "                                              'ROUGE-1-fmeasure': 0.2802082008853045,\n",
      "                                              'ROUGE-1-recall': 0.4753477954330174,\n",
      "                                              'ROUGE-2-fmeasure': 0.11552971434225888,\n",
      "                                              'ROUGE-2-recall': 0.1986445181977855,\n",
      "                                              'ROUGE-L-fmeasure': 0.20241138735028996,\n",
      "                                              'ROUGE-L-recall': 0.3441145438091803}}}\n"
     ]
    }
   ],
   "source": [
    "from pprint import pprint\n",
    "import json\n",
    "pprint(result)\n",
    "with open(\"bench_results_cnn_daily_last.json\", 'w') as f:\n",
    "    json.dump(result, f, indent=4)"
   ],
   "metadata": {
    "collapsed": false,
    "pycharm": {
     "name": "#%%\n"
    }
   }
  },
  {
   "cell_type": "code",
   "execution_count": 13,
   "outputs": [
    {
     "name": "stderr",
     "output_type": "stream",
     "text": [
      "100%|██████████| 2/2 [00:00<00:00, 103.39it/s]"
     ]
    },
    {
     "name": "stdout",
     "output_type": "stream",
     "text": [
      "12 8\n",
      "==============================\n",
      "the 37yearold has scored 230 runs in four firstclass games this season at an average of 57.50.\n",
      "losing adam is naturally a blow as he contributes significantly to everything we do director of cricket angus fraser said.\n"
     ]
    },
    {
     "name": "stderr",
     "output_type": "stream",
     "text": [
      "\n"
     ]
    }
   ],
   "source": [
    "# small_ds = [orig_documents[0], orig_documents[1]]\n",
    "# small_ds_prep = preprocessor_simple.transform(small_ds)\n",
    "# # print(small_ds_prep)\n",
    "#\n",
    "# # bads = string.punctuation.replace('.', '')\n",
    "# # print(bads)\n",
    "# #\n",
    "# # tmp = remove_symbols(bads)(orig_documents[1])\n",
    "# MyTextRank.fit(small_ds_prep)\n",
    "# res = MyTextRank.predict(small_ds_prep)\n",
    "# # print(tmp)\n",
    "# # print(\"=\" * 30)\n",
    "# # print(small_ds_prep[1])\n",
    "# # print(\"=\" * 30)\n",
    "# print(len(orig_documents[1].split(\".\")), len(nltk.sent_tokenize(orig_documents[1])))\n",
    "# print(\"=\" * 30)\n",
    "# print(res[1])"
   ],
   "metadata": {
    "collapsed": false,
    "pycharm": {
     "name": "#%%\n"
    }
   }
  },
  {
   "cell_type": "code",
   "execution_count": null,
   "outputs": [],
   "source": [],
   "metadata": {
    "collapsed": false,
    "pycharm": {
     "name": "#%%\n"
    }
   }
  }
 ],
 "metadata": {
  "kernelspec": {
   "display_name": "Python 3",
   "language": "python",
   "name": "python3"
  },
  "language_info": {
   "codemirror_mode": {
    "name": "ipython",
    "version": 2
   },
   "file_extension": ".py",
   "mimetype": "text/x-python",
   "name": "python",
   "nbconvert_exporter": "python",
   "pygments_lexer": "ipython2",
   "version": "2.7.6"
  }
 },
 "nbformat": 4,
 "nbformat_minor": 0
}